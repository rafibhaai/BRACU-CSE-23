{
  "nbformat": 4,
  "nbformat_minor": 0,
  "metadata": {
    "colab": {
      "provenance": []
    },
    "kernelspec": {
      "name": "python3",
      "display_name": "Python 3"
    },
    "language_info": {
      "name": "python"
    }
  },
  "cells": [
    {
      "cell_type": "code",
      "execution_count": null,
      "metadata": {
        "colab": {
          "base_uri": "https://localhost:8080/"
        },
        "id": "EyB5bC5yEM2c",
        "outputId": "aea3c6b2-b4b6-4a86-969c-90bb00e3324f"
      },
      "outputs": [
        {
          "output_type": "stream",
          "name": "stdout",
          "text": [
            "Please Enter Your Number :3\n",
            "Please Enter Your Number :5\n",
            "Please Enter Your Number :7\n",
            "Please Enter Your Number :8\n",
            "Please Enter Your Number :9\n",
            "[3, 5, 7, 8, 9]\n"
          ]
        }
      ],
      "source": [
        "#Task01\n",
        "newlist=[]\n",
        "for i in range(5):\n",
        "    number=int(input(\"Please Enter Your Number :\"))\n",
        "    newlist.append(number)\n",
        "print(newlist)"
      ]
    },
    {
      "cell_type": "code",
      "source": [
        "#Task02\n",
        "string = input(\"Please Enter Your String :\")\n",
        "newlist = string.split(\", \")\n",
        "box=[]\n",
        "for i in newlist:\n",
        "    box.append(int(i))\n",
        "if len(box)>=4:\n",
        "    print(box[2:-2])\n",
        "else:\n",
        "    print(\"Not Possible\")"
      ],
      "metadata": {
        "colab": {
          "base_uri": "https://localhost:8080/"
        },
        "id": "w7ipqzu2FY-F",
        "outputId": "77eaaa20-a361-4a93-f4e7-c8af935c9c94"
      },
      "execution_count": null,
      "outputs": [
        {
          "output_type": "stream",
          "name": "stdout",
          "text": [
            "Please Enter Your Number :10, 20, 24, 25, 26, 35, 70\n",
            "['10', '20', '24', '25', '26', '35', '70']\n",
            "[10, 20, 24, 25, 26, 35, 70]\n",
            "[24, 25, 26]\n"
          ]
        }
      ]
    },
    {
      "cell_type": "code",
      "source": [
        "#Task03s\n",
        "newlist=[]\n",
        "box=[]\n",
        "for i in range(5):\n",
        "    number=int(input(\"Please Enter Your Number :\"))\n",
        "    newlist.append(number)\n",
        "print(newlist)\n",
        "for x in newlist:\n",
        "    box.append(int(x))\n",
        "    newbox=box[-1::-1]\n",
        "print(newbox)"
      ],
      "metadata": {
        "colab": {
          "base_uri": "https://localhost:8080/"
        },
        "id": "c4nUApb3J5dp",
        "outputId": "440a77c0-6580-4daa-eb2f-6262bd9354ed"
      },
      "execution_count": null,
      "outputs": [
        {
          "output_type": "stream",
          "name": "stdout",
          "text": [
            "Please Enter Your Number :5\n",
            "Please Enter Your Number :-5\n",
            "Please Enter Your Number :100\n",
            "Please Enter Your Number :1\n",
            "Please Enter Your Number :0\n",
            "[5, -5, 100, 1, 0]\n",
            "[5]\n",
            "[-5, 5]\n",
            "[100, -5, 5]\n",
            "[1, 100, -5, 5]\n",
            "[0, 1, 100, -5, 5]\n"
          ]
        }
      ]
    },
    {
      "cell_type": "code",
      "source": [
        "#Task04\n",
        "newlist=[]\n",
        "number= input(\"Please Enter Your Number :\")\n",
        "string= number[1:-1]\n",
        "mystring= string.split(\", \")\n",
        "for i in mystring:\n",
        "    newlist.append(int(i)**2)\n",
        "print(newlist)"
      ],
      "metadata": {
        "colab": {
          "base_uri": "https://localhost:8080/"
        },
        "id": "Jbl_y4BnOA1L",
        "outputId": "4de11fc8-05cd-4085-f0ec-0f6e52533b90"
      },
      "execution_count": null,
      "outputs": [
        {
          "output_type": "stream",
          "name": "stdout",
          "text": [
            "Please Enter Your Number :[1, 2, 3, 4, 5, 6, 7]\n",
            "1\n",
            "2\n",
            "3\n",
            "4\n",
            "5\n",
            "6\n",
            "7\n",
            "[1, 4, 9, 16, 25, 36, 49]\n"
          ]
        }
      ]
    },
    {
      "cell_type": "code",
      "source": [
        "#Task05\n",
        "box=[]\n",
        "mylist = [\"hey\", \"there\", \"\", \"what's\", \"\", \"up\", \"\", \"?\"]\n",
        "for i in mylist:\n",
        "    if i==\"\":\n",
        "        pass\n",
        "    else:\n",
        "        box.append(i)\n",
        "print(\"Orginal List :\",mylist)\n",
        "print(\"Modified List :\",box)"
      ],
      "metadata": {
        "id": "jbCvGvMgPjBR",
        "colab": {
          "base_uri": "https://localhost:8080/"
        },
        "outputId": "be45cb69-0167-4efd-b627-f3b393d9c67c"
      },
      "execution_count": null,
      "outputs": [
        {
          "output_type": "stream",
          "name": "stdout",
          "text": [
            "Orginal List : ['hey', 'there', '', \"what's\", '', 'up', '', '?']\n",
            "Modified List : ['hey', 'there', \"what's\", 'up', '?']\n"
          ]
        }
      ]
    },
    {
      "cell_type": "code",
      "source": [
        "#Task06\n",
        "checker=0\n",
        "counter=0\n",
        "box=[]\n",
        "string= input(\"Please Enter Your Number :\")\n",
        "newlist=string.split(\",\")\n",
        "for i in newlist:\n",
        "    box.append(int(i))\n",
        "for j in box:\n",
        "    if j>checker:\n",
        "        checker=j\n",
        "for x in box:\n",
        "    if x==checker:\n",
        "        break\n",
        "    else:\n",
        "        counter+=1\n",
        "print(\"Mylist :\",string)\n",
        "print(\"Largest number in the list is:\",checker,\"which was found at index :\",counter)\n",
        "\n"
      ],
      "metadata": {
        "colab": {
          "base_uri": "https://localhost:8080/"
        },
        "id": "78rXc6tQuAWX",
        "outputId": "73bebc2a-8abc-4a8e-a7ab-82c619ac0346"
      },
      "execution_count": null,
      "outputs": [
        {
          "output_type": "stream",
          "name": "stdout",
          "text": [
            "Please Enter Your Number :7,13,2,10,6,-11,0\n",
            "Mylist : 7,13,2,10,6,-11,0\n",
            "Largest number in the list is: 13 which was found at index : 1\n"
          ]
        }
      ]
    },
    {
      "cell_type": "code",
      "source": [
        "#Task07\n",
        "list1 = [1, 4, 7, 5]\n",
        "list2 = [6, 1, 3, 9]\n",
        "list1.pop(3)\n",
        "print(list1+list2)"
      ],
      "metadata": {
        "colab": {
          "base_uri": "https://localhost:8080/"
        },
        "id": "mv3Kowid0ndJ",
        "outputId": "3e618345-b8d7-4fbb-fd87-1d48d77d17b9"
      },
      "execution_count": null,
      "outputs": [
        {
          "output_type": "stream",
          "name": "stdout",
          "text": [
            "[1, 4, 7, 6, 1, 3, 9]\n"
          ]
        }
      ]
    },
    {
      "cell_type": "code",
      "source": [
        "box=[]\n",
        "subject = ['CSE', 'EEE','Civil']\n",
        "box = subject.pop(2)\n",
        "print(box)"
      ],
      "metadata": {
        "colab": {
          "base_uri": "https://localhost:8080/"
        },
        "id": "JgAOmXexwPon",
        "outputId": "2eebe3c0-4b67-4845-851c-e4e6d79ef1e7"
      },
      "execution_count": null,
      "outputs": [
        {
          "output_type": "stream",
          "name": "stdout",
          "text": [
            "Civil\n"
          ]
        }
      ]
    },
    {
      "cell_type": "code",
      "source": [
        "subject = ['CSE', 'EEE','Civil']\n",
        "subject.append(\"Dhurro\")\n",
        "print(subject)"
      ],
      "metadata": {
        "colab": {
          "base_uri": "https://localhost:8080/"
        },
        "id": "BU8g43X438MB",
        "outputId": "878ed48a-6f55-423e-8140-c001e02bc63a"
      },
      "execution_count": null,
      "outputs": [
        {
          "output_type": "stream",
          "name": "stdout",
          "text": [
            "['CSE', 'EEE', 'Civil', 'Dhurro']\n"
          ]
        }
      ]
    },
    {
      "cell_type": "code",
      "source": [
        "#Task08\n",
        "box=[]\n",
        "list1 = [1, 2, 3, 4, 5, 6, 7, 8, 9]\n",
        "list2 = [10, 11, 12, -13, -14, -15, -16]\n",
        "for i in list1:\n",
        "    if i%2==0:\n",
        "        box.append(i)\n",
        "for x in list2:\n",
        "    if x%2==0:\n",
        "        box.append(x)\n",
        "print(box)\n",
        "\n",
        "# box=[]\n",
        "# box2=[]\n",
        "# list1 = [1, 2, 3, 4, 5, 6, 7, 8, 9]\n",
        "# list2 = [10, 11, 12, -13, -14, -15, -16]\n",
        "# for i in list1:\n",
        "#     if i%2==0:\n",
        "#         box.append(i)\n",
        "# for x in list2:\n",
        "#     if x%2==0:\n",
        "#         box2.append(x)\n",
        "# print(box+box2)"
      ],
      "metadata": {
        "colab": {
          "base_uri": "https://localhost:8080/"
        },
        "id": "7BsqsYme4vOF",
        "outputId": "a3632517-3547-4266-9aca-783804fbd3a4"
      },
      "execution_count": null,
      "outputs": [
        {
          "output_type": "stream",
          "name": "stdout",
          "text": [
            "[2, 4, 6, 8, 10, 12, -14, -16]\n"
          ]
        }
      ]
    },
    {
      "cell_type": "code",
      "source": [
        "#Task09\n",
        "mystring=\"\"\n",
        "box1=[]\n",
        "box2=[]\n",
        "string= input(\"Please Enter Your Number :\")\n",
        "for i in string:\n",
        "    if i!=\" \":\n",
        "        mystring+=i\n",
        "    if i==\" \":\n",
        "        box1.append(int(mystring))\n",
        "        mystring=\"\"\n",
        "for x in box1:\n",
        "    if x%2==0:\n",
        "        continue\n",
        "    else:\n",
        "        box2.append(x)\n",
        "print(\"Original list:\",box1)\n",
        "print(\"Modified list:\",box2)"
      ],
      "metadata": {
        "colab": {
          "base_uri": "https://localhost:8080/"
        },
        "id": "RpOqDw_o61Mg",
        "outputId": "b1868113-61ce-4a78-c5ac-83e02bcdd93e"
      },
      "execution_count": null,
      "outputs": [
        {
          "output_type": "stream",
          "name": "stdout",
          "text": [
            "Please Enter Your Number :7 12 4 55 96 2 11 61 33 42\n",
            "Original list: [7, 12, 4, 55, 96, 2, 11, 61, 33]\n",
            "Modified list: [7, 55, 11, 61, 33]\n"
          ]
        }
      ]
    },
    {
      "cell_type": "code",
      "source": [
        "#Task10\n",
        "mylist=[]\n",
        "mylist2=[]\n",
        "string= input(\"Please Enter Your String :\")\n",
        "box = string.split(\", \")\n",
        "print(box)\n",
        "for i in box:\n",
        "  mylist.append(int(i))\n",
        "for x in mylist:\n",
        "  if x in mylist2:\n",
        "    continue\n",
        "  else:\n",
        "    mylist2.append(x)\n",
        "print(mylist2)"
      ],
      "metadata": {
        "id": "Mtj2n72JA6n0"
      },
      "execution_count": null,
      "outputs": []
    },
    {
      "cell_type": "code",
      "source": [
        "#Task11\n",
        "flag= True\n",
        "list1 = [1, 4, 3, 2, 6]\n",
        "list2 = [5, 6, 9, 8, 7]\n",
        "for i in list1:\n",
        "  if i in list2:\n",
        "    flag = True\n",
        "  else:\n",
        "    flag= False\n",
        "print(flag)"
      ],
      "metadata": {
        "id": "u4N1XYu7GC6X"
      },
      "execution_count": null,
      "outputs": []
    },
    {
      "cell_type": "code",
      "source": [
        "newlist=[]\n",
        "mylist=[]\n",
        "for i in range(5):\n",
        "    number=input(\"Please enter your number :\")\n",
        "    newlist.append(number)\n",
        "for i in newlist:\n",
        "    mylist.append(int(i))\n",
        "print(mylist[-1::-1])"
      ],
      "metadata": {
        "colab": {
          "base_uri": "https://localhost:8080/"
        },
        "id": "1tdnz4Hzoug1",
        "outputId": "a289698d-e565-4d81-95d5-ca23dcd515a5"
      },
      "execution_count": null,
      "outputs": [
        {
          "output_type": "stream",
          "name": "stdout",
          "text": [
            "Please enter your number :1\n",
            "Please enter your number :2\n",
            "Please enter your number :3\n",
            "Please enter your number :4\n",
            "Please enter your number :5\n",
            "[5, 4, 3, 2, 1]\n"
          ]
        }
      ]
    },
    {
      "cell_type": "code",
      "source": [
        "2"
      ],
      "metadata": {
        "id": "uQ8CW8ZupJM2"
      },
      "execution_count": null,
      "outputs": []
    }
  ]
}