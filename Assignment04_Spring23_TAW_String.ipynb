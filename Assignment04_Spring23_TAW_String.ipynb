{
  "nbformat": 4,
  "nbformat_minor": 0,
  "metadata": {
    "colab": {
      "provenance": []
    },
    "kernelspec": {
      "name": "python3",
      "display_name": "Python 3"
    },
    "language_info": {
      "name": "python"
    }
  },
  "cells": [
    {
      "cell_type": "code",
      "source": [
        "#Task01\n",
        "line=input(\"Please Enter Your String :\")\n",
        "print(line[-1::-1])"
      ],
      "metadata": {
        "id": "OTqROD4j1ysJ",
        "colab": {
          "base_uri": "https://localhost:8080/"
        },
        "outputId": "d837fc20-187b-4b23-c676-ea4744dcba60"
      },
      "execution_count": null,
      "outputs": [
        {
          "output_type": "stream",
          "name": "stdout",
          "text": [
            "Please Enter Your String :kjbfytffgf\n",
            "fgfftyfbjk\n"
          ]
        }
      ]
    },
    {
      "cell_type": "code",
      "source": [
        "#Task02\n",
        "line=input(\"Please Enter Your String :\")\n",
        "index=int(input(\"please Enter The Index Number :\"))\n",
        "condition =line[index::-1]\n",
        "rest=line[index+1::]\n",
        "print(condition+rest)"
      ],
      "metadata": {
        "id": "DxwYNAsR1wk3",
        "colab": {
          "base_uri": "https://localhost:8080/"
        },
        "outputId": "689dda1c-90bf-4b58-816b-febdb7179a5c"
      },
      "execution_count": null,
      "outputs": [
        {
          "output_type": "stream",
          "name": "stdout",
          "text": [
            "Please Enter Your String :123456\n",
            "please Enter The Index Number :4\n",
            "543216\n"
          ]
        }
      ]
    },
    {
      "cell_type": "code",
      "source": [
        "#Task03\n",
        "a=0\n",
        "line=input(\"Please Enter Your String :\")\n",
        "for i in line:\n",
        "    if i!=\"0\" and i!=\"1\" :\n",
        "        a = \"Is Not A binary Number\"\n",
        "    else:\n",
        "        a=\"Is A binary Number\"\n",
        "print(line,a)"
      ],
      "metadata": {
        "colab": {
          "base_uri": "https://localhost:8080/"
        },
        "id": "24lQ5stctD3Z",
        "outputId": "75665939-6fce-4b17-83d8-72f5dd693ea7"
      },
      "execution_count": null,
      "outputs": [
        {
          "output_type": "stream",
          "name": "stdout",
          "text": [
            "Please Enter Your String :jdfvjnnj\n",
            "jdfvjnnj Is Not A binary Number\n"
          ]
        }
      ]
    },
    {
      "cell_type": "code",
      "source": [
        "#Task04\n",
        "line=input(\"Please Enter Your String :\")\n",
        "if line[-2:]==\"er\":\n",
        "    value= line[:len(line)-2]\n",
        "    print(value+\"est\")\n",
        "elif line[-3:]==\"est\":\n",
        "    value=line[:len(line)-2]\n",
        "    print(line)\n",
        "elif len(line)>3:\n",
        "    print(line+\"er\")\n",
        "elif len(line)<4 and line[-2:]!=\"er\":\n",
        "    print(line)"
      ],
      "metadata": {
        "colab": {
          "base_uri": "https://localhost:8080/"
        },
        "id": "yW9zKXMqxCcR",
        "outputId": "022b4c7a-60fe-4145-90b6-e706525d2aaf"
      },
      "execution_count": null,
      "outputs": [
        {
          "output_type": "stream",
          "name": "stdout",
          "text": [
            "Please Enter Your String :abc\n",
            "abc\n"
          ]
        }
      ]
    },
    {
      "cell_type": "code",
      "source": [
        "#Task05\n",
        "line=input(\"Please enter your line :\")\n",
        "for i in range(len(line)):\n",
        "    for c in range(i+1):\n",
        "        print(line[c],end=\" \")\n",
        "    print()"
      ],
      "metadata": {
        "colab": {
          "base_uri": "https://localhost:8080/"
        },
        "id": "5gH5cc-9CRb3",
        "outputId": "363b04d3-7b59-404d-f301-9cb0b22d4355"
      },
      "execution_count": null,
      "outputs": [
        {
          "output_type": "stream",
          "name": "stdout",
          "text": [
            "Please enter your line :BANGLA\n",
            "B \n",
            "B A \n",
            "B A N \n",
            "B A N G \n",
            "B A N G L \n",
            "B A N G L A \n"
          ]
        }
      ]
    },
    {
      "cell_type": "code",
      "source": [
        "#Task06\n",
        "line=input(\"Please enter your line :\")\n",
        "for i in line:\n",
        "    print(i,\":\",ord(i))"
      ],
      "metadata": {
        "colab": {
          "base_uri": "https://localhost:8080/"
        },
        "id": "aXaqdWOvE9ty",
        "outputId": "783eeaa4-3d26-4658-e050-901b3f3c96d0"
      },
      "execution_count": null,
      "outputs": [
        {
          "output_type": "stream",
          "name": "stdout",
          "text": [
            "Please enter your line :Programming\n",
            "P : 80\n",
            "r : 114\n",
            "o : 111\n",
            "g : 103\n",
            "r : 114\n",
            "a : 97\n",
            "m : 109\n",
            "m : 109\n",
            "i : 105\n",
            "n : 110\n",
            "g : 103\n"
          ]
        }
      ]
    },
    {
      "cell_type": "code",
      "source": [
        "string= \"This Is Rafi\" #small range 97to122\n",
        "for i in string:\n",
        "     if 97<= ord(i) <=122:\n",
        "        value = i\n",
        "        value2= ord(i)\n",
        "        print(value2,\":\",value)"
      ],
      "metadata": {
        "id": "OaWYnipeWKnY",
        "colab": {
          "base_uri": "https://localhost:8080/"
        },
        "outputId": "1a418ae8-d0fa-45b4-8634-8f13fd9361d2"
      },
      "execution_count": null,
      "outputs": [
        {
          "output_type": "stream",
          "name": "stdout",
          "text": [
            "104 : h\n",
            "105 : i\n",
            "115 : s\n",
            "115 : s\n",
            "97 : a\n",
            "102 : f\n",
            "105 : i\n"
          ]
        }
      ]
    },
    {
      "cell_type": "code",
      "source": [
        "string= \"This Is Rafi\"\n",
        "for i in string:\n",
        "    if \"A\"<= i <= \"Z\":\n",
        "        print(i)"
      ],
      "metadata": {
        "colab": {
          "base_uri": "https://localhost:8080/"
        },
        "id": "jFX0w1tMBUHv",
        "outputId": "c7c6576e-0119-482d-8918-2a886c3be50f"
      },
      "execution_count": null,
      "outputs": [
        {
          "output_type": "stream",
          "name": "stdout",
          "text": [
            "T\n",
            "I\n",
            "R\n"
          ]
        }
      ]
    },
    {
      "cell_type": "code",
      "source": [
        "# string= \"This Is Rafi\"\n",
        "# for i in range(len(string)):\n",
        "#     if 92<= ord(string[i]) <=122:\n",
        "#         print(string[i])\n",
        "string= \"This Is Rafi\"\n",
        "for i in range(len(string)):\n",
        "    print(string[i])"
      ],
      "metadata": {
        "colab": {
          "base_uri": "https://localhost:8080/"
        },
        "id": "7-ksZiiqDnhG",
        "outputId": "dffbc299-b2f3-4a54-a406-23907633c339"
      },
      "execution_count": null,
      "outputs": [
        {
          "output_type": "stream",
          "name": "stdout",
          "text": [
            "T\n",
            "h\n",
            "i\n",
            "s\n",
            " \n",
            "I\n",
            "s\n",
            " \n",
            "R\n",
            "a\n",
            "f\n",
            "i\n"
          ]
        }
      ]
    },
    {
      "cell_type": "code",
      "source": [
        "sen=\"abcdefghijklmnopqr      stuvwxyz10215231552151\"\n",
        "vow = \"AEIOUaeiou\"\n",
        "num=\"0123456789\"\n",
        "sp=\" \"\n",
        "for i in sen:\n",
        "    if i not in vow and i not in num and i not in sp:\n",
        "        print(i,end=\" \")\n"
      ],
      "metadata": {
        "colab": {
          "base_uri": "https://localhost:8080/"
        },
        "id": "38V6uI-gEY4t",
        "outputId": "3e7abb5d-4f93-4720-d623-3a048d73415c"
      },
      "execution_count": null,
      "outputs": [
        {
          "output_type": "stream",
          "name": "stdout",
          "text": [
            "b c d f g h j k l m n p q r s t v w x y z "
          ]
        }
      ]
    },
    {
      "cell_type": "code",
      "source": [
        "c=\"j\"\n",
        "d= chr(ord(c)-32)\n",
        "print(d)\n",
        "#0..............................\n",
        "c=\"A\"\n",
        "d= (chr(ord(c)+32))\n",
        "print(d)"
      ],
      "metadata": {
        "colab": {
          "base_uri": "https://localhost:8080/"
        },
        "id": "klZmVjO9FeAw",
        "outputId": "485c0599-c37f-4f0b-9f97-53a7e1b16153"
      },
      "execution_count": null,
      "outputs": [
        {
          "output_type": "stream",
          "name": "stdout",
          "text": [
            "J\n"
          ]
        }
      ]
    },
    {
      "cell_type": "code",
      "source": [
        "# p=\"\"\n",
        "# x=\"\"\n",
        "# z=\"\"\n",
        "# string = \"rafibhai\"\n",
        "# for i in string:\n",
        "#     x= ord(i)\n",
        "#     p=x-32\n",
        "#     z+=chr(p)\n",
        "# print(z)\n",
        "value=\"\"\n",
        "string= input(\"Please Enter Your String :\")\n",
        "for i in string:\n",
        "    value+=chr(ord(i)-32)\n",
        "print(value)"
      ],
      "metadata": {
        "colab": {
          "base_uri": "https://localhost:8080/"
        },
        "id": "WLxeSKW7GhfD",
        "outputId": "2dafb7e3-c106-4114-f2af-62bf73d14bd4"
      },
      "execution_count": null,
      "outputs": [
        {
          "output_type": "stream",
          "name": "stdout",
          "text": [
            "Please Enter Your String :rafibhaai\n",
            "RAFIBHAAI\n"
          ]
        }
      ]
    },
    {
      "cell_type": "code",
      "source": [
        "# a=input(\"\")\n",
        "# out=\"\"\n",
        "# for i in a:\n",
        "#     out+=chr(ord(i)+1)\n",
        "# print(out)\n",
        "string= input(\"Please Enter Your String :\")\n",
        "for i in string\n"
      ],
      "metadata": {
        "colab": {
          "base_uri": "https://localhost:8080/"
        },
        "id": "x6anStJ1HYnk",
        "outputId": "b89c3642-7393-496e-c1b6-93044590aa41"
      },
      "execution_count": null,
      "outputs": [
        {
          "output_type": "stream",
          "name": "stdout",
          "text": [
            "the cow\n",
            "uif!dpx\n"
          ]
        }
      ]
    },
    {
      "cell_type": "code",
      "source": [
        "#task07\n",
        "line=input(\"\")\n",
        "for i in line:\n",
        "    value=chr(ord(i)+1)\n",
        "    if value==\"{\":\n",
        "        value=\"a\"\n",
        "    print(value,end=\"\")"
      ],
      "metadata": {
        "colab": {
          "base_uri": "https://localhost:8080/"
        },
        "id": "I5AsZIT7zoO-",
        "outputId": "3dd41d75-fa9a-483a-e196-310c3e30507b"
      },
      "execution_count": null,
      "outputs": [
        {
          "output_type": "stream",
          "name": "stdout",
          "text": [
            "the cow\n",
            "uif!dpx"
          ]
        }
      ]
    },
    {
      "cell_type": "code",
      "source": [
        "# Task08\n",
        "sum=0\n",
        "line=input(\"\")\n",
        "for i in range (len(line)):\n",
        "    if i%2!=0:\n",
        "        sum+=i\n",
        "        bum= ord(line[i])\n",
        "        n=chr(bum)\n",
        "        m= ord(n)-32\n",
        "        print(chr(m),end=\"\")"
      ],
      "metadata": {
        "colab": {
          "base_uri": "https://localhost:8080/"
        },
        "id": "0ryrgJinA2XE",
        "outputId": "dfb2fd31-f78e-4975-c53f-af5de511285d"
      },
      "execution_count": null,
      "outputs": [
        {
          "output_type": "stream",
          "name": "stdout",
          "text": [
            "String\n",
            "TIG"
          ]
        }
      ]
    },
    {
      "cell_type": "code",
      "source": [
        "sum=0\n",
        "line=input(\"\")\n",
        "for i in range (len(line)):\n",
        "    if i%2!=0:\n",
        "        sum+=i\n",
        "        print(sum)"
      ],
      "metadata": {
        "colab": {
          "base_uri": "https://localhost:8080/",
          "height": 252
        },
        "id": "gnlP8u1QfPR8",
        "outputId": "012a16b9-2f1d-4378-8f48-c50e2de7e861"
      },
      "execution_count": null,
      "outputs": [
        {
          "name": "stdout",
          "output_type": "stream",
          "text": [
            "String\n"
          ]
        },
        {
          "output_type": "error",
          "ename": "TypeError",
          "evalue": "ignored",
          "traceback": [
            "\u001b[0;31m---------------------------------------------------------------------------\u001b[0m",
            "\u001b[0;31mTypeError\u001b[0m                                 Traceback (most recent call last)",
            "\u001b[0;32m<ipython-input-123-c472a4779fae>\u001b[0m in \u001b[0;36m<module>\u001b[0;34m\u001b[0m\n\u001b[1;32m      1\u001b[0m \u001b[0msum\u001b[0m\u001b[0;34m=\u001b[0m\u001b[0;36m0\u001b[0m\u001b[0;34m\u001b[0m\u001b[0;34m\u001b[0m\u001b[0m\n\u001b[1;32m      2\u001b[0m \u001b[0mline\u001b[0m\u001b[0;34m=\u001b[0m\u001b[0minput\u001b[0m\u001b[0;34m(\u001b[0m\u001b[0;34m\"\"\u001b[0m\u001b[0;34m)\u001b[0m\u001b[0;34m\u001b[0m\u001b[0;34m\u001b[0m\u001b[0m\n\u001b[0;32m----> 3\u001b[0;31m \u001b[0;32mfor\u001b[0m \u001b[0mi\u001b[0m \u001b[0;32min\u001b[0m \u001b[0mrange\u001b[0m \u001b[0;34m(\u001b[0m\u001b[0mlen\u001b[0m\u001b[0;34m(\u001b[0m\u001b[0mline\u001b[0m\u001b[0;34m)\u001b[0m\u001b[0;34m)\u001b[0m\u001b[0;34m:\u001b[0m\u001b[0;34m\u001b[0m\u001b[0;34m\u001b[0m\u001b[0m\n\u001b[0m\u001b[1;32m      4\u001b[0m     \u001b[0;32mif\u001b[0m \u001b[0mi\u001b[0m\u001b[0;34m%\u001b[0m\u001b[0;36m2\u001b[0m\u001b[0;34m!=\u001b[0m\u001b[0;36m0\u001b[0m\u001b[0;34m:\u001b[0m\u001b[0;34m\u001b[0m\u001b[0;34m\u001b[0m\u001b[0m\n\u001b[1;32m      5\u001b[0m         \u001b[0msum\u001b[0m\u001b[0;34m+=\u001b[0m\u001b[0mi\u001b[0m\u001b[0;34m\u001b[0m\u001b[0;34m\u001b[0m\u001b[0m\n",
            "\u001b[0;31mTypeError\u001b[0m: 'str' object is not callable"
          ]
        }
      ]
    },
    {
      "cell_type": "code",
      "source": [
        "# line=input(\"\")\n",
        "\n",
        "# for i in range(len(line)):\n",
        "#     print(i,line[i])"
      ],
      "metadata": {
        "colab": {
          "base_uri": "https://localhost:8080/"
        },
        "id": "kA2H29ckFktF",
        "outputId": "621e39bc-859f-4888-9b6b-de0401ff3ffb"
      },
      "execution_count": null,
      "outputs": [
        {
          "output_type": "stream",
          "name": "stdout",
          "text": [
            "String\n",
            "0 S\n",
            "1 t\n",
            "2 r\n",
            "3 i\n",
            "4 n\n",
            "5 g\n"
          ]
        }
      ]
    },
    {
      "cell_type": "code",
      "source": [
        "#Task09\n",
        "# string=input(\"Please enter your string :\")\n",
        "# value=string[0]\n",
        "# for i in string:\n",
        "#     if i==value[-1]:\n",
        "#         pass\n",
        "#     else:\n",
        "#         value+=i\n",
        "# print(value)\n"
      ],
      "metadata": {
        "id": "TANGQ9yuFw_K",
        "colab": {
          "base_uri": "https://localhost:8080/"
        },
        "outputId": "68fc5eeb-4287-4402-ef5d-ddc822034b73"
      },
      "execution_count": null,
      "outputs": [
        {
          "output_type": "stream",
          "name": "stdout",
          "text": [
            "ifar si sihT\n"
          ]
        }
      ]
    },
    {
      "cell_type": "code",
      "source": [
        "#Task16\n",
        "box=\"\"\n",
        "string=input(\"Please enter your string :\")\n",
        "later = input(\"Please enter your later :\")\n",
        "if later in string:\n",
        "    for i in string:\n",
        "        if later!=i:\n",
        "            print(i,end=\"\")\n",
        "elif (len(string))>3:\n",
        "    box=string[1:-1]\n",
        "    print(box,end=\"\")\n",
        "else:\n",
        "    print(string)"
      ],
      "metadata": {
        "id": "DsugbDU8Mre1",
        "colab": {
          "base_uri": "https://localhost:8080/"
        },
        "outputId": "d12d2510-fc26-4271-9259-68b3e2e963b1"
      },
      "execution_count": null,
      "outputs": [
        {
          "output_type": "stream",
          "name": "stdout",
          "text": [
            "Please enter your string :eren yeager\n",
            "Please enter your later :k\n",
            "ren yeage"
          ]
        }
      ]
    },
    {
      "cell_type": "code",
      "source": [
        "#Task17\n",
        "string=input(\"Please enter your string :\")\n",
        "spliter = input(\"Please enter your spliter :\")\n",
        "for i in string:\n",
        "    if i== spliter:\n",
        "        print()\n",
        "    else:\n",
        "        print(i,end=\"\")"
      ],
      "metadata": {
        "colab": {
          "base_uri": "https://localhost:8080/"
        },
        "id": "i5Znb0nf87Dm",
        "outputId": "f2c13aca-0b78-4da5-ed1f-2f71bbde461c"
      },
      "execution_count": null,
      "outputs": [
        {
          "output_type": "stream",
          "name": "stdout",
          "text": [
            "Please enter your string :This-is-CSE110\n",
            "Please enter your spliter :-\n",
            "This\n",
            "is\n",
            "CSE110"
          ]
        }
      ]
    },
    {
      "cell_type": "code",
      "source": [
        "#Task18\n",
        "string=input(\"Please enter your string :\")\n",
        "number = int(input(\"Please enter your number :\"))\n",
        "if number%2==0:\n",
        "    value=number*2\n",
        "else:\n",
        "    value= number*3\n",
        "for i in range(value):\n",
        "    print(string,end=\"\")\n"
      ],
      "metadata": {
        "colab": {
          "base_uri": "https://localhost:8080/"
        },
        "id": "WROWaFhJB6Rh",
        "outputId": "9e178561-9968-4394-ee25-5aba7d9aae83"
      },
      "execution_count": null,
      "outputs": [
        {
          "output_type": "stream",
          "name": "stdout",
          "text": [
            "Please enter your string :CSE110\n",
            "Please enter your number :3\n",
            "CSE110CSE110CSE110CSE110CSE110CSE110CSE110CSE110CSE110"
          ]
        }
      ]
    },
    {
      "cell_type": "code",
      "source": [
        "value=\"\"\n",
        "string= input(\"Please Enter Your String :\")\n",
        "for i in string:\n",
        "    if i==\"{\":\n",
        "        value+=\"a\"\n",
        "    else:\n",
        "        value+=chr(ord(i)+1)\n",
        "print(value)"
      ],
      "metadata": {
        "colab": {
          "base_uri": "https://localhost:8080/"
        },
        "id": "s4r8rmynENsR",
        "outputId": "fd725ed5-6710-4c33-f94a-719732be2f86"
      },
      "execution_count": null,
      "outputs": [
        {
          "output_type": "stream",
          "name": "stdout",
          "text": [
            "Please Enter Your String :hgvtfz\n",
            "ihwug{\n"
          ]
        }
      ]
    },
    {
      "cell_type": "code",
      "source": [
        "value=\"\"\n",
        "string= input(\"Please Enter Your String :\")\n",
        "for i in string:\n",
        "    if 48<= ord(i) <=57:\n",
        "        value+=i\n",
        "print(\"Number In Your string :\",value)"
      ],
      "metadata": {
        "colab": {
          "base_uri": "https://localhost:8080/"
        },
        "id": "BFrKwhwnJjvV",
        "outputId": "c27d8275-f7da-4c18-ca64-d44b7153538a"
      },
      "execution_count": null,
      "outputs": [
        {
          "output_type": "stream",
          "name": "stdout",
          "text": [
            "Please Enter Your String :cndcbaskkxan5151105xsa5154\n",
            "Number In Your string : 51511055154\n"
          ]
        }
      ]
    },
    {
      "cell_type": "code",
      "source": [
        "s1=\"CSEaiu1\"\n",
        "sum=0\n",
        "for x in s1:\n",
        "    sum+=ord(x)\n",
        "sm1=str(sum)\n",
        "odd=0\n",
        "even=0\n",
        "for i in sm1:\n",
        "    if int(i)%2==0:\n",
        "        even+=int(i)\n",
        "    else:\n",
        "        odd+=int(i)\n",
        "print(chr(even))\n",
        "print(chr(odd))"
      ],
      "metadata": {
        "colab": {
          "base_uri": "https://localhost:8080/"
        },
        "id": "tvScnL39iVJ4",
        "outputId": "10b15e5c-765c-485f-8b77-743c48035eab"
      },
      "execution_count": null,
      "outputs": [
        {
          "output_type": "stream",
          "name": "stdout",
          "text": [
            "\b\n",
            "\u0002\n"
          ]
        }
      ]
    },
    {
      "cell_type": "code",
      "source": [
        "s1=\"CSEaiu1\"\n",
        "for i in s1:\n",
        "    if 97<= ord(i)<=122:\n",
        "        print(i,end=\" \")"
      ],
      "metadata": {
        "colab": {
          "base_uri": "https://localhost:8080/"
        },
        "id": "HMqZxhHWjUZ3",
        "outputId": "89efdaad-df7f-4b0d-acdc-d713dbb7f807"
      },
      "execution_count": null,
      "outputs": [
        {
          "output_type": "stream",
          "name": "stdout",
          "text": [
            "a i u "
          ]
        }
      ]
    },
    {
      "cell_type": "code",
      "source": [
        "bum=\"\"\n",
        "result=0\n",
        "sama=0\n",
        "value=0\n",
        "doirgho1=0\n",
        "doirgho2=0\n",
        "bum=0\n",
        "result=0\n",
        "sum=0\n",
        "box=0\n",
        "value=0\n",
        "doirgho1=0\n",
        "doirgho2=0\n",
        "string= input(\"Please Enter Your String :\")\n",
        "for i in string:\n",
        "    if 65<= ord(i)<=90:\n",
        "        sum+=i\n",
        "        doirgho1=len(sum)\n",
        "    else:\n",
        "        bum+=i\n",
        "        doirgho2=len(bum)\n",
        "if doirgho1>doirgho2:\n",
        "    for x in string:\n",
        "        if 65<= ord(x) <= 90:\n",
        "            result+=chr(ord(x))\n",
        "        elif 97 <ord(x)<=122:\n",
        "            result+=chr(ord(x)-32)\n",
        "    print(result)\n",
        "else:\n",
        "    for j in string:\n",
        "        if 97<=ord(j)<=122:\n",
        "            box+=chr(ord(j))\n",
        "        elif 65<= ord(j) <= 90:\n",
        "            box+=chr(ord(j)+32)\n",
        "    print(box)"
      ],
      "metadata": {
        "colab": {
          "base_uri": "https://localhost:8080/",
          "height": 252
        },
        "id": "IapmdpfNl_Hj",
        "outputId": "cbe702a9-2d66-461b-a6b5-cd1de972e74c"
      },
      "execution_count": null,
      "outputs": [
        {
          "name": "stdout",
          "output_type": "stream",
          "text": [
            "Please Enter Your String :amijanina\n"
          ]
        },
        {
          "output_type": "error",
          "ename": "TypeError",
          "evalue": "ignored",
          "traceback": [
            "\u001b[0;31m---------------------------------------------------------------------------\u001b[0m",
            "\u001b[0;31mTypeError\u001b[0m                                 Traceback (most recent call last)",
            "\u001b[0;32m<ipython-input-63-fbfa9779421f>\u001b[0m in \u001b[0;36m<module>\u001b[0;34m\u001b[0m\n\u001b[1;32m     18\u001b[0m         \u001b[0mdoirgho1\u001b[0m\u001b[0;34m=\u001b[0m\u001b[0mlen\u001b[0m\u001b[0;34m(\u001b[0m\u001b[0msum\u001b[0m\u001b[0;34m)\u001b[0m\u001b[0;34m\u001b[0m\u001b[0;34m\u001b[0m\u001b[0m\n\u001b[1;32m     19\u001b[0m     \u001b[0;32melse\u001b[0m\u001b[0;34m:\u001b[0m\u001b[0;34m\u001b[0m\u001b[0;34m\u001b[0m\u001b[0m\n\u001b[0;32m---> 20\u001b[0;31m         \u001b[0mbum\u001b[0m\u001b[0;34m+=\u001b[0m\u001b[0mi\u001b[0m\u001b[0;34m\u001b[0m\u001b[0;34m\u001b[0m\u001b[0m\n\u001b[0m\u001b[1;32m     21\u001b[0m         \u001b[0mdoirgho2\u001b[0m\u001b[0;34m=\u001b[0m\u001b[0mlen\u001b[0m\u001b[0;34m(\u001b[0m\u001b[0mbum\u001b[0m\u001b[0;34m)\u001b[0m\u001b[0;34m\u001b[0m\u001b[0;34m\u001b[0m\u001b[0m\n\u001b[1;32m     22\u001b[0m \u001b[0;32mif\u001b[0m \u001b[0mdoirgho1\u001b[0m\u001b[0;34m>\u001b[0m\u001b[0mdoirgho2\u001b[0m\u001b[0;34m:\u001b[0m\u001b[0;34m\u001b[0m\u001b[0;34m\u001b[0m\u001b[0m\n",
            "\u001b[0;31mTypeError\u001b[0m: unsupported operand type(s) for +=: 'int' and 'str'"
          ]
        }
      ]
    },
    {
      "cell_type": "code",
      "source": [
        "jk= \"This is rafi\"\n",
        "for i in range(len(jk)):\n",
        "    print(jk[i])"
      ],
      "metadata": {
        "colab": {
          "base_uri": "https://localhost:8080/",
          "height": 200
        },
        "id": "FT4Av3nZbuRt",
        "outputId": "b9b88cdd-ca5e-40ba-c195-07db81ef5935"
      },
      "execution_count": null,
      "outputs": [
        {
          "output_type": "error",
          "ename": "TypeError",
          "evalue": "ignored",
          "traceback": [
            "\u001b[0;31m---------------------------------------------------------------------------\u001b[0m",
            "\u001b[0;31mTypeError\u001b[0m                                 Traceback (most recent call last)",
            "\u001b[0;32m<ipython-input-120-0cf4d2cbd296>\u001b[0m in \u001b[0;36m<module>\u001b[0;34m\u001b[0m\n\u001b[1;32m      1\u001b[0m \u001b[0mjk\u001b[0m\u001b[0;34m=\u001b[0m \u001b[0;34m\"This is rafi\"\u001b[0m\u001b[0;34m\u001b[0m\u001b[0;34m\u001b[0m\u001b[0m\n\u001b[0;32m----> 2\u001b[0;31m \u001b[0;32mfor\u001b[0m \u001b[0mi\u001b[0m \u001b[0;32min\u001b[0m \u001b[0mrange\u001b[0m\u001b[0;34m(\u001b[0m\u001b[0mlen\u001b[0m\u001b[0;34m(\u001b[0m\u001b[0mjk\u001b[0m\u001b[0;34m)\u001b[0m\u001b[0;34m)\u001b[0m\u001b[0;34m:\u001b[0m\u001b[0;34m\u001b[0m\u001b[0;34m\u001b[0m\u001b[0m\n\u001b[0m\u001b[1;32m      3\u001b[0m     \u001b[0mprint\u001b[0m\u001b[0;34m(\u001b[0m\u001b[0mjk\u001b[0m\u001b[0;34m[\u001b[0m\u001b[0mi\u001b[0m\u001b[0;34m]\u001b[0m\u001b[0;34m)\u001b[0m\u001b[0;34m\u001b[0m\u001b[0;34m\u001b[0m\u001b[0m\n",
            "\u001b[0;31mTypeError\u001b[0m: 'str' object is not callable"
          ]
        }
      ]
    },
    {
      "cell_type": "code",
      "source": [
        "string= \"This Is Rafi\"\n",
        "for i in range(len(string)):\n",
        "    print(string[i])"
      ],
      "metadata": {
        "colab": {
          "base_uri": "https://localhost:8080/",
          "height": 200
        },
        "id": "KrBo7X4vb5ad",
        "outputId": "2ae13b21-6915-4118-d7f9-25ea345096eb"
      },
      "execution_count": null,
      "outputs": [
        {
          "output_type": "error",
          "ename": "TypeError",
          "evalue": "ignored",
          "traceback": [
            "\u001b[0;31m---------------------------------------------------------------------------\u001b[0m",
            "\u001b[0;31mTypeError\u001b[0m                                 Traceback (most recent call last)",
            "\u001b[0;32m<ipython-input-121-39a8526f7e64>\u001b[0m in \u001b[0;36m<module>\u001b[0;34m\u001b[0m\n\u001b[1;32m      1\u001b[0m \u001b[0mstring\u001b[0m\u001b[0;34m=\u001b[0m \u001b[0;34m\"This Is Rafi\"\u001b[0m\u001b[0;34m\u001b[0m\u001b[0;34m\u001b[0m\u001b[0m\n\u001b[0;32m----> 2\u001b[0;31m \u001b[0;32mfor\u001b[0m \u001b[0mi\u001b[0m \u001b[0;32min\u001b[0m \u001b[0mrange\u001b[0m\u001b[0;34m(\u001b[0m\u001b[0mlen\u001b[0m\u001b[0;34m(\u001b[0m\u001b[0mstring\u001b[0m\u001b[0;34m)\u001b[0m\u001b[0;34m)\u001b[0m\u001b[0;34m:\u001b[0m\u001b[0;34m\u001b[0m\u001b[0;34m\u001b[0m\u001b[0m\n\u001b[0m\u001b[1;32m      3\u001b[0m     \u001b[0mprint\u001b[0m\u001b[0;34m(\u001b[0m\u001b[0mstring\u001b[0m\u001b[0;34m[\u001b[0m\u001b[0mi\u001b[0m\u001b[0;34m]\u001b[0m\u001b[0;34m)\u001b[0m\u001b[0;34m\u001b[0m\u001b[0;34m\u001b[0m\u001b[0m\n",
            "\u001b[0;31mTypeError\u001b[0m: 'str' object is not callable"
          ]
        }
      ]
    },
    {
      "cell_type": "code",
      "source": [
        "value=\"\"\n",
        "string= input(\"Please Enter Your String :\")\n",
        "for i in string:\n",
        "    if 97<= ord(i) <=122:\n",
        "        value+= chr(ord(i)+1)\n",
        "print(value)"
      ],
      "metadata": {
        "colab": {
          "base_uri": "https://localhost:8080/"
        },
        "id": "FMvXQrz0O5hL",
        "outputId": "fce8403f-5fc0-4aaa-abca-bb1ecbca319e"
      },
      "execution_count": null,
      "outputs": [
        {
          "output_type": "stream",
          "name": "stdout",
          "text": [
            "Please Enter Your String :the cow\n",
            "uifdpx\n"
          ]
        }
      ]
    },
    {
      "cell_type": "code",
      "source": [
        "string=input(\"Please Enter your Input :\")\n",
        "vow= \"aeiouAEIOU\"\n",
        "vowel=0\n",
        "num=\"0123456789\"\n",
        "number=0\n",
        "consonent=0\n",
        "sp=\" \"\n",
        "for i in range(len(string)):\n",
        "    if string[i] in vow:\n",
        "        vowel+=1\n",
        "    elif string[i] in num:\n",
        "        number+=1\n",
        "    elif string[i] not in vow and string[i] not in num and string[i] not in sp:\n",
        "        consonent+=1\n",
        "print(\"Number Of Vowel :\",vowel)\n",
        "print(\"Number Of Digit\",number)\n",
        "print(\"Number Of consonent :\",consonent)"
      ],
      "metadata": {
        "colab": {
          "base_uri": "https://localhost:8080/"
        },
        "id": "i8yTMXCU3iYE",
        "outputId": "0462f271-4063-415d-f54d-d660a2b92174"
      },
      "execution_count": null,
      "outputs": [
        {
          "output_type": "stream",
          "name": "stdout",
          "text": [
            "Please Enter your Input :there will be 4 quizzes in cse110 course\n",
            "Number Of Vowel : 12\n",
            "Number Of Digit 4\n",
            "Number Of consonent : 17\n"
          ]
        }
      ]
    },
    {
      "cell_type": "code",
      "source": [
        "string=input(\"Please Enter your Input :\")\n",
        "vow= \"aeiouAEIOU\"\n",
        "vowel=\"\"\n",
        "num=\"0123456789\"\n",
        "number=\"\"\n",
        "consonent=\"\"\n",
        "sp=\" \"\n",
        "for i in string:\n",
        "    if i in vow:\n",
        "        vowel+=i\n",
        "    elif i in num:\n",
        "        number+=i\n",
        "    elif i in sp:\n",
        "        pass\n",
        "    else:\n",
        "        consonent+=i\n",
        "print(vowel)\n",
        "print(number)\n",
        "print(consonent)\n"
      ],
      "metadata": {
        "colab": {
          "base_uri": "https://localhost:8080/"
        },
        "id": "bg1Rw4ck4WPV",
        "outputId": "6081032a-5845-4b65-fd02-c6b1dfb97254"
      },
      "execution_count": null,
      "outputs": [
        {
          "output_type": "stream",
          "name": "stdout",
          "text": [
            "Please Enter your Input :today is or cse110 midterm\n",
            "oaioeie\n",
            "110\n",
            "tdysrcsmdtrm\n"
          ]
        }
      ]
    },
    {
      "cell_type": "code",
      "source": [
        "string=input(\"Please Enter your Input :\")\n",
        "vow= \"aeiouAEIOU\"\n",
        "vowel=0\n",
        "num=\"0123456789\"\n",
        "number=0\n",
        "consonent=0\n",
        "sp=\" \"\n",
        "for i in string:\n",
        "    if i in vow:\n",
        "        vowel+=1\n",
        "    elif i in num:\n",
        "        number+=1\n",
        "    elif i in sp:\n",
        "        pass\n",
        "    else:\n",
        "        consonent+=1\n",
        "print(vowel)\n",
        "print(consonent)\n",
        "print(number)"
      ],
      "metadata": {
        "colab": {
          "base_uri": "https://localhost:8080/"
        },
        "id": "ZhHCYW-R8k7I",
        "outputId": "391d33bd-41b6-45e0-8dc6-991f44b28edf"
      },
      "execution_count": null,
      "outputs": [
        {
          "output_type": "stream",
          "name": "stdout",
          "text": [
            "Please Enter your Input :today is our cse110 midterm\n",
            "8\n",
            "12\n",
            "3\n"
          ]
        }
      ]
    },
    {
      "cell_type": "code",
      "source": [
        "var1=0\n",
        "r=0\n",
        "while (var1<5):\n",
        "    var2=1\n",
        "    while (var2<=var1):\n",
        "        if (var2%3==1):\n",
        "            r=var1+var2 + (16%var1)\n",
        "            print(r)\n",
        "        elif (var1%4>1):\n",
        "            print(var1>2 and var2>=1)\n",
        "        else:\n",
        "            r=var1*var2 -int(29/var2)\n",
        "            print(r)\n",
        "        var2=var2+17%3\n",
        "    var1=var1+1"
      ],
      "metadata": {
        "colab": {
          "base_uri": "https://localhost:8080/"
        },
        "id": "D0zm11O1GTlp",
        "outputId": "b5544460-3fbc-498f-e6a5-3c06f4b4d0d3"
      },
      "execution_count": null,
      "outputs": [
        {
          "output_type": "stream",
          "name": "stdout",
          "text": [
            "2\n",
            "3\n",
            "5\n",
            "True\n",
            "5\n",
            "3\n"
          ]
        }
      ]
    },
    {
      "cell_type": "code",
      "source": [
        "up=0\n",
        "low=0\n",
        "digit=0\n",
        "sp=\" \"\n",
        "valid=\"ABCDabcd0123456789\"\n",
        "word = input(\"Enter Your Word :\")\n",
        "if i in valid:\n",
        "    for i in word:\n",
        "        if 65<=ord(i)<=90:\n",
        "            up+=1\n",
        "        elif 97<=ord(i)<=122:\n",
        "            low+=1\n",
        "        elif 48<= ord(i)<=57:\n",
        "            digit+=1\n",
        "        elif i==sp:\n",
        "            pass\n",
        "    print(\"Uppercae :\",up)\n",
        "    print(\"lowercase :\",low)\n",
        "    print(\"Digit :\",digit)\n",
        "else:\n",
        "    print(\"Invalid\")"
      ],
      "metadata": {
        "colab": {
          "base_uri": "https://localhost:8080/"
        },
        "id": "0Uhy5wC3sdvM",
        "outputId": "daa17c90-d14c-4f0a-e0a5-8dd0b69778dc"
      },
      "execution_count": null,
      "outputs": [
        {
          "output_type": "stream",
          "name": "stdout",
          "text": [
            "Enter Your Word :This Is CSE110\n",
            "Uppercae : 5\n",
            "lowercase : 4\n",
            "Digit : 3\n"
          ]
        }
      ]
    },
    {
      "cell_type": "code",
      "source": [
        "up=\"\"\n",
        "up2=0\n",
        "low=\"\"\n",
        "low2=0\n",
        "digit=\"\"\n",
        "digit2=0\n",
        "sp=\" \"\n",
        "word = input(\"Enter Your Word :\")\n",
        "for i in word:\n",
        "    if 65<=ord(i)<=90:\n",
        "        up+=i\n",
        "        up2+=1\n",
        "    elif 97<=ord(i)<122:\n",
        "        low+=i\n",
        "        low2+=1\n",
        "    elif 48<=ord(i)<=58:\n",
        "        digit+=i\n",
        "        digit2+=1\n",
        "    elif i == sp:\n",
        "        pass\n",
        "print(\"Capital :\",up,\" And The number of Capital is :\",up2)\n",
        "print(\"Small :\",low,\" And The number of Small is :\",low2)\n",
        "print(\"Number :\",digit,\" And The number of Digit is :\",digit2)"
      ],
      "metadata": {
        "colab": {
          "base_uri": "https://localhost:8080/"
        },
        "id": "WIpdalFOQHrq",
        "outputId": "5bb44e38-7920-40ca-9dd2-ee755c6c063d"
      },
      "execution_count": null,
      "outputs": [
        {
          "output_type": "stream",
          "name": "stdout",
          "text": [
            "Enter Your Word :joYBanGLaa100\n",
            "Capital : YBGL  And The number of Capital is : 4\n",
            "Small : joanaa  And The number of Small is : 6\n",
            "Number : 100  And The number of Digit is : 3\n"
          ]
        }
      ]
    },
    {
      "cell_type": "code",
      "source": [
        "up=\"\"\n",
        "up2=0\n",
        "low=\"\"\n",
        "low2=0\n",
        "digit=\"\"\n",
        "digit2=0\n",
        "sp=\" \"\n",
        "cp=0\n",
        "\n",
        "word = input(\"Enter Your Word :\")\n",
        "for i in word:\n",
        "    if 65<=ord(i)<=90:\n",
        "        up+=i\n",
        "        up2+=1\n",
        "    elif 97<=ord(i)<122:\n",
        "        low+=i\n",
        "        low2+=1\n",
        "    elif 48<=ord(i)<=58:\n",
        "        digit+=i\n",
        "        digit2+=1\n",
        "    elif i == sp:\n",
        "        pass\n",
        "for x in up:\n",
        "    cp+=ord(up)\n",
        "cp1=str(cp)\n",
        "odd=0\n",
        "even=0\n",
        "for y in cp1:\n",
        "    if int(y)%2==0:\n",
        "        even+=int(y)\n",
        "    else:\n",
        "        odd+=int(y)\n",
        "print(chr(even))\n",
        "print(chr(odd))\n"
      ],
      "metadata": {
        "colab": {
          "base_uri": "https://localhost:8080/",
          "height": 252
        },
        "id": "s3HaVoiUTeVq",
        "outputId": "a058cde5-21aa-418a-d8d1-9770c0d9d7ed"
      },
      "execution_count": null,
      "outputs": [
        {
          "name": "stdout",
          "output_type": "stream",
          "text": [
            "Enter Your Word :DHURBHALLAGENAA\n"
          ]
        },
        {
          "output_type": "error",
          "ename": "TypeError",
          "evalue": "ignored",
          "traceback": [
            "\u001b[0;31m---------------------------------------------------------------------------\u001b[0m",
            "\u001b[0;31mTypeError\u001b[0m                                 Traceback (most recent call last)",
            "\u001b[0;32m<ipython-input-2-00219e6c5834>\u001b[0m in \u001b[0;36m<module>\u001b[0;34m\u001b[0m\n\u001b[1;32m     22\u001b[0m         \u001b[0;32mpass\u001b[0m\u001b[0;34m\u001b[0m\u001b[0;34m\u001b[0m\u001b[0m\n\u001b[1;32m     23\u001b[0m \u001b[0;32mfor\u001b[0m \u001b[0mx\u001b[0m \u001b[0;32min\u001b[0m \u001b[0mup\u001b[0m\u001b[0;34m:\u001b[0m\u001b[0;34m\u001b[0m\u001b[0;34m\u001b[0m\u001b[0m\n\u001b[0;32m---> 24\u001b[0;31m     \u001b[0mcp\u001b[0m\u001b[0;34m+=\u001b[0m\u001b[0mord\u001b[0m\u001b[0;34m(\u001b[0m\u001b[0mup\u001b[0m\u001b[0;34m)\u001b[0m\u001b[0;34m\u001b[0m\u001b[0;34m\u001b[0m\u001b[0m\n\u001b[0m\u001b[1;32m     25\u001b[0m \u001b[0mcp1\u001b[0m\u001b[0;34m=\u001b[0m\u001b[0mstr\u001b[0m\u001b[0;34m(\u001b[0m\u001b[0mcp\u001b[0m\u001b[0;34m)\u001b[0m\u001b[0;34m\u001b[0m\u001b[0;34m\u001b[0m\u001b[0m\n\u001b[1;32m     26\u001b[0m \u001b[0modd\u001b[0m\u001b[0;34m=\u001b[0m\u001b[0;36m0\u001b[0m\u001b[0;34m\u001b[0m\u001b[0;34m\u001b[0m\u001b[0m\n",
            "\u001b[0;31mTypeError\u001b[0m: ord() expected a character, but string of length 15 found"
          ]
        }
      ]
    },
    {
      "cell_type": "code",
      "source": [
        "s1=input(\"ENter\")\n",
        "sm=0\n",
        "for i in s1:\n",
        "    sm+= ord(i)\n",
        "sm1=str(sm)\n",
        "even=0\n",
        "odd=0\n",
        "for x in sm1:\n",
        "    if int(x)%2==0:\n",
        "        even+=int(x)\n",
        "    else:\n",
        "        odd+=int(x)\n",
        "print(chr(even))\n",
        "print(chr(odd))\n"
      ],
      "metadata": {
        "colab": {
          "base_uri": "https://localhost:8080/"
        },
        "id": "fhih4osxUt8e",
        "outputId": "9c764a71-28fb-4ec1-83f7-e5b479e5e158"
      },
      "execution_count": null,
      "outputs": [
        {
          "output_type": "stream",
          "name": "stdout",
          "text": [
            "ENterBHALLAGENAAA\n",
            "\b\n",
            "\u0006\n"
          ]
        }
      ]
    },
    {
      "cell_type": "code",
      "source": [
        "user_input = input(\"Enter a string: \")\n",
        "split_char = input(\"Enter a split character: \")\n",
        "\n",
        "split_string = user_input.split(split_char)\n",
        "\n",
        "print(\"Split string:\", split_string)\n"
      ],
      "metadata": {
        "id": "kKkzZYmBZ0Ng",
        "colab": {
          "base_uri": "https://localhost:8080/"
        },
        "outputId": "cae07c77-ede3-4f9b-c1f1-e576e457d3ba"
      },
      "execution_count": null,
      "outputs": [
        {
          "output_type": "stream",
          "name": "stdout",
          "text": [
            "Enter a string: This-is-CSE110\n",
            "Enter a split character: -\n",
            "Split string: ['This', 'is', 'CSE110']\n"
          ]
        }
      ]
    }
  ]
}