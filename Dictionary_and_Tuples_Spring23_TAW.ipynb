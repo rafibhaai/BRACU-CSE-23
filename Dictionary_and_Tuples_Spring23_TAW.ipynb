{
  "nbformat": 4,
  "nbformat_minor": 0,
  "metadata": {
    "colab": {
      "provenance": []
    },
    "kernelspec": {
      "name": "python3",
      "display_name": "Python 3"
    },
    "language_info": {
      "name": "python"
    }
  },
  "cells": [
    {
      "cell_type": "code",
      "execution_count": null,
      "metadata": {
        "colab": {
          "base_uri": "https://localhost:8080/"
        },
        "id": "YtGIHB2WGL08",
        "outputId": "6d7d71a4-af3f-4a5d-d2fc-6f03f9d662c0"
      },
      "outputs": [
        {
          "output_type": "stream",
          "name": "stdout",
          "text": [
            "400\n"
          ]
        }
      ],
      "source": [
        "#Task01\n",
        "a_tuple = (\"The Institute\", (\"Best Mystery & Thriller\", \"The Silent Patient\", 68821), 75717,\n",
        "[1, 2, 3, 400, 5, 6, 7], (\"Best Fiction\", \"The Testaments\", 98291))\n",
        "print(a_tuple[3][3])"
      ]
    },
    {
      "cell_type": "code",
      "source": [
        "#Task02\n",
        "mytuple= (-10, 20, 25, 30, 40)\n",
        "print(mytuple[2:-2])"
      ],
      "metadata": {
        "colab": {
          "base_uri": "https://localhost:8080/"
        },
        "id": "GxlahS5pHSqZ",
        "outputId": "8a1526ce-73f9-4496-887e-4ab059a48261"
      },
      "execution_count": null,
      "outputs": [
        {
          "output_type": "stream",
          "name": "stdout",
          "text": [
            "(25,)\n"
          ]
        }
      ]
    },
    {
      "cell_type": "code",
      "source": [
        "#Task03\n",
        "book_info = ((\"Best Mystery & Thriller\",\"The Silent Patient\",68,821),\n",
        "(\"Best Horror\",\"The Institute\",75,717),\n",
        "(\"Best History & Biography\",\"The five\",31,783 ),\n",
        "(\"Best Fiction\",\"The Testaments\",98,291))\n",
        "print(\"Size of the tuple is:\",len(book_info))\n",
        "for i in book_info:\n",
        "    print(i)"
      ],
      "metadata": {
        "colab": {
          "base_uri": "https://localhost:8080/"
        },
        "id": "XNMfPPwwzq6R",
        "outputId": "a1fa05cc-0683-4b28-f806-7f4e5603ed52"
      },
      "execution_count": null,
      "outputs": [
        {
          "output_type": "stream",
          "name": "stdout",
          "text": [
            "Size of the tuple is: 4\n",
            "('Best Mystery & Thriller', 'The Silent Patient', 68, 821)\n",
            "('Best Horror', 'The Institute', 75, 717)\n",
            "('Best History & Biography', 'The five', 31, 783)\n",
            "('Best Fiction', 'The Testaments', 98, 291)\n"
          ]
        }
      ]
    },
    {
      "cell_type": "code",
      "source": [
        "#Task04 incomplete\n",
        "book_info = ((\"Best Mystery & Thriller\",\"The Silent Patient\",68821),\n",
        "(\"Best Horror\",\"The Institute\",75717),\n",
        "(\"Best History & Biography\",\"The five\",31783 ),\n",
        "(\"Best Fiction\",\"The Testaments\",98291))\n",
        "a,b,c,d=book_info\n",
        "print(b)"
      ],
      "metadata": {
        "colab": {
          "base_uri": "https://localhost:8080/"
        },
        "id": "chUh16NZ1A1z",
        "outputId": "96442ac6-2cf5-46eb-b59b-df49aa864445"
      },
      "execution_count": null,
      "outputs": [
        {
          "output_type": "stream",
          "name": "stdout",
          "text": [
            "('Best Horror', 'The Institute', 75717)\n"
          ]
        }
      ]
    },
    {
      "cell_type": "code",
      "source": [
        "#Task05\n",
        "box=0\n",
        "given =  (10, 8, 5, 2, 10, 15, 10, 8, 5, 8, 8, 2)\n",
        "number=int(input(\"Please Enter Your Number :\"))\n",
        "for i in given:\n",
        "    if i==number:\n",
        "        box+=1\n",
        "print(number,\"Appears\",box,\"times in the tuplebox\")"
      ],
      "metadata": {
        "colab": {
          "base_uri": "https://localhost:8080/"
        },
        "id": "_QCSrCrO19Vs",
        "outputId": "508a01ef-bd33-4c6c-e773-d22e041e19bf"
      },
      "execution_count": null,
      "outputs": [
        {
          "output_type": "stream",
          "name": "stdout",
          "text": [
            "Please Enter Your Number :1\n",
            "1 Appears 0 times in the tuplebox\n"
          ]
        }
      ]
    },
    {
      "cell_type": "code",
      "source": [
        "#Task06\n",
        "given = ('a', 'b', 'c', 'd', 'e', 'f', 'g', 'h')\n",
        "mylist= list(given)\n",
        "mylist.reverse()\n",
        "print(tuple(mylist))"
      ],
      "metadata": {
        "colab": {
          "base_uri": "https://localhost:8080/"
        },
        "id": "3DID_mZt3ds7",
        "outputId": "2ed13c46-af9d-428a-dfa8-8af4a9883748"
      },
      "execution_count": null,
      "outputs": [
        {
          "output_type": "stream",
          "name": "stdout",
          "text": [
            "('h', 'g', 'f', 'e', 'd', 'c', 'b', 'a')\n"
          ]
        }
      ]
    },
    {
      "cell_type": "code",
      "source": [
        "#Task07\n",
        "mydict1= {'Harry':15, 'Draco':8, 'Nevil':19}\n",
        "mydict2= {'Ginie':18, 'Luna': 14}\n",
        "mydict1.update(mydict2)\n",
        "print(mydict1)"
      ],
      "metadata": {
        "colab": {
          "base_uri": "https://localhost:8080/"
        },
        "id": "ETESyrz84k2d",
        "outputId": "62159c3f-3cf5-4422-e62a-2fd34feaf0a1"
      },
      "execution_count": null,
      "outputs": [
        {
          "output_type": "stream",
          "name": "stdout",
          "text": [
            "{'Harry': 15, 'Draco': 8, 'Nevil': 19, 'Ginie': 18, 'Luna': 14}\n"
          ]
        }
      ]
    },
    {
      "cell_type": "code",
      "source": [
        "#Task08\n",
        "string= input(\"Please Enter Your String :\")\n",
        "mylist= string.split(\", \")\n",
        "dic={}\n",
        "value=0\n",
        "counter=0\n",
        "for i in mylist:\n",
        "    newlist=i.split(\":\")\n",
        "    keys=newlist[0]\n",
        "    values=newlist[1]\n",
        "    dic[keys]=int(values) #[Bujhinaai]\n",
        "for i in dic.values():\n",
        "    value+=i\n",
        "    counter+=1\n",
        "    avg=value/counter\n",
        "print(\"Average is:\",avg)\n",
        "print(dic)\n",
        "print(mylist)"
      ],
      "metadata": {
        "id": "jJGkG-QcxCBb",
        "colab": {
          "base_uri": "https://localhost:8080/"
        },
        "outputId": "205f078c-81a6-4505-aea9-91bac13b2616"
      },
      "execution_count": null,
      "outputs": [
        {
          "output_type": "stream",
          "name": "stdout",
          "text": [
            "Please Enter Your String :Jon:100, Dan:200, Rob:300\n",
            "Average is: 200.0\n",
            "{'Jon': 100, 'Dan': 200, 'Rob': 300}\n",
            "['Jon:100', 'Dan:200', 'Rob:300']\n"
          ]
        }
      ]
    },
    {
      "cell_type": "code",
      "source": [
        "#Task09\n",
        "exam_marks = {'Cierra Vega': 175, 'Alden Cantrell': 200, 'Kierra Gentry': 165, 'Pierre Cox': 190}\n",
        "mydict={}\n",
        "number=int(input(\"Please Enter Your Number :\"))\n",
        "for key,value in exam_marks.items():\n",
        "    if value>=number:\n",
        "        mydict[key]=value\n",
        "print(mydict)"
      ],
      "metadata": {
        "colab": {
          "base_uri": "https://localhost:8080/"
        },
        "id": "-RwSNvPYdHrl",
        "outputId": "97879746-80ef-4ecd-dc47-b50cf7d555ac"
      },
      "execution_count": null,
      "outputs": [
        {
          "output_type": "stream",
          "name": "stdout",
          "text": [
            "Please Enter Your Number :200\n",
            "{'Alden Cantrell': 200}\n"
          ]
        }
      ]
    },
    {
      "cell_type": "code",
      "source": [
        "#Task10\n",
        "mydict= {'sci fi': 12, 'mystery': 15, 'horror': 8, 'mythology': 10, 'young_adult': 4, 'adventure':14}\n",
        "max=0\n",
        "box={}\n",
        "for key,value in mydict.items():\n",
        "    if value>=max:\n",
        "        max=value\n",
        "        box=key\n",
        "print(\"The highest selling book genre is :\",box,\"and the number of books sold are :\",mydict[box])"
      ],
      "metadata": {
        "colab": {
          "base_uri": "https://localhost:8080/"
        },
        "id": "oOHygSElfeH0",
        "outputId": "5b61540e-4e0a-4ea4-94ff-1188d765d33a"
      },
      "execution_count": null,
      "outputs": [
        {
          "output_type": "stream",
          "name": "stdout",
          "text": [
            "The highest selling book genre is : mystery and the number of books sold are : 15\n"
          ]
        }
      ]
    },
    {
      "cell_type": "code",
      "source": [
        "#Task11\n",
        "x = input()[1:-1].lower()\n",
        "box = {}\n",
        "box1 = {}\n",
        "for i in x:\n",
        "  if i in box:\n",
        "    box[i]+= 1\n",
        "  else:\n",
        "    box[i] = 1\n",
        "for i,j in box.items():\n",
        "  if i == \" \":\n",
        "    continue\n",
        "  else:\n",
        "    box1[i] =j\n",
        "print(box1)\n",
        "#>./////////////////////////////////////////////////////////\n",
        "inp=input()\n",
        "mydict={}\n",
        "inp=inp.replace(' ',\"\")\n",
        "str1=\"\"\n",
        "\n",
        "for i in inp:\n",
        "    if 65<= ord(i) <= 90:\n",
        "        i = chr(ord(i)+32)\n",
        "        str1+=i\n",
        "    else:\n",
        "        str1+=i\n",
        "\n",
        "count=0\n",
        "for char in str1:\n",
        "  if char in mydict:\n",
        "    mydict[char]+=1\n",
        "  else:\n",
        "    mydict[char]=1\n",
        "print(mydict)"
      ],
      "metadata": {
        "id": "o6L6LMN8hCwW",
        "colab": {
          "base_uri": "https://localhost:8080/"
        },
        "outputId": "fbb39d89-5c42-4204-a4ea-a8ae5c71e5fe"
      },
      "execution_count": null,
      "outputs": [
        {
          "output_type": "stream",
          "name": "stdout",
          "text": [
            "kkk\n",
            "{'k': 1}\n",
            "h\n",
            "{'h': 1}\n"
          ]
        }
      ]
    },
    {
      "cell_type": "code",
      "source": [
        "#Task12\n",
        "mydict = {'A': [1, 2, 3], 'b': ['1', '2'], \"c\": [4, 5, 6, 7]}\n",
        "counter=0\n",
        "for i,j in mydict.items():\n",
        "    for k in j:\n",
        "        counter+=1\n",
        "print(counter)\n"
      ],
      "metadata": {
        "colab": {
          "base_uri": "https://localhost:8080/"
        },
        "id": "UE_gaeK0-u9h",
        "outputId": "ee0a78fa-dbc9-420a-d0db-4cf91407ce11"
      },
      "execution_count": null,
      "outputs": [
        {
          "output_type": "stream",
          "name": "stdout",
          "text": [
            "9\n"
          ]
        }
      ]
    },
    {
      "cell_type": "code",
      "source": [
        "#Task13\n",
        "mylist = [(\"a\", 1), (\"b\", 2), (\"a\", 3), (\"b\", 1), (\"a\", 2), (\"c\", 1)]\n",
        "mydict={}\n",
        "for i in mylist:\n",
        "    key=i[0]\n",
        "    value=i[1]\n",
        "    if key not in mydict.keys():\n",
        "        mydict[key]= [value]     #List e ken?\n",
        "    else:\n",
        "        mydict[key].append(value)\n",
        "print(mydict)\n"
      ],
      "metadata": {
        "colab": {
          "base_uri": "https://localhost:8080/"
        },
        "id": "h4AziqoQ_O-r",
        "outputId": "ecafbe7b-1525-4b24-906c-9c91afa0ca28"
      },
      "execution_count": null,
      "outputs": [
        {
          "output_type": "stream",
          "name": "stdout",
          "text": [
            "{'a': [1, 3, 2], 'b': [2, 1], 'c': [1]}\n"
          ]
        }
      ]
    },
    {
      "cell_type": "code",
      "source": [],
      "metadata": {
        "id": "FVwxVUG5A0N5"
      },
      "execution_count": null,
      "outputs": []
    }
  ]
}