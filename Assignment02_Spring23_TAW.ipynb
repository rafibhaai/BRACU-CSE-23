{
  "nbformat": 4,
  "nbformat_minor": 0,
  "metadata": {
    "colab": {
      "provenance": []
    },
    "kernelspec": {
      "name": "python3",
      "display_name": "Python 3"
    },
    "language_info": {
      "name": "python"
    }
  },
  "cells": [
    {
      "cell_type": "code",
      "execution_count": null,
      "metadata": {
        "colab": {
          "base_uri": "https://localhost:8080/"
        },
        "id": "bpxbpm_3tT2O",
        "outputId": "a066a355-6bdc-445c-961a-916b66c0bc21"
      },
      "outputs": [
        {
          "output_type": "stream",
          "name": "stdout",
          "text": [
            "Please Enter Your first Number :5\n",
            "Please Enter Your Second Number :7\n",
            "sum =  12\n",
            "Product = 35\n",
            "difference -2\n"
          ]
        }
      ],
      "source": [
        "#Task01\n",
        "first_number = int(input(\"Please Enter Your first Number :\"))\n",
        "second_number = int(input(\"Please Enter Your Second Number :\"))\n",
        "sum = first_number+second_number\n",
        "product = first_number*second_number\n",
        "difference = first_number-second_number\n",
        "print(\"sum = \",sum)\n",
        "print(\"Product =\",product)\n",
        "print(\"difference\",difference)"
      ]
    },
    {
      "cell_type": "code",
      "source": [
        "#Task02\n",
        "import math\n",
        "radius = float(input(\"Please Enter Your radius :\"))\n",
        "circumference = 2*math.pi*radius\n",
        "area = math.pi*radius**2\n",
        "print(\"Area is \",area)\n",
        "print(\"Circumference is \",circumference)"
      ],
      "metadata": {
        "colab": {
          "base_uri": "https://localhost:8080/"
        },
        "id": "xh0EHFo_wunh",
        "outputId": "941ad2f8-0193-47af-aa09-4a9ba11c059d"
      },
      "execution_count": null,
      "outputs": [
        {
          "output_type": "stream",
          "name": "stdout",
          "text": [
            "Please Enter Your radius :3.5\n",
            "Area is  38.48451000647496\n",
            "Circumference is  21.991148575128552\n"
          ]
        }
      ]
    },
    {
      "cell_type": "code",
      "source": [
        "#Task03\n",
        "first_number = int(input(\"Please Enter Your first Number :\"))\n",
        "second_number = int(input(\"Please Enter Your Second Number :\"))\n",
        "if first_number > second_number :\n",
        "    print(\"First is greater\")\n",
        "else :\n",
        "    print(\"Second is greater\")"
      ],
      "metadata": {
        "colab": {
          "base_uri": "https://localhost:8080/"
        },
        "id": "OxHQ4SwNzv7E",
        "outputId": "1bcedc9c-a205-41e6-f282-3398470d78ce"
      },
      "execution_count": null,
      "outputs": [
        {
          "output_type": "stream",
          "name": "stdout",
          "text": [
            "Please Enter Your first Number :4\n",
            "Please Enter Your Second Number :7\n",
            "Second is greater\n"
          ]
        }
      ]
    },
    {
      "cell_type": "code",
      "source": [
        "#Task04\n",
        "first_number = int(input(\"Please Enter Your first Number :\"))\n",
        "second_number = int(input(\"Please Enter Your Second Number :\"))\n",
        "if first_number > second_number :\n",
        "    subtracts = first_number-second_number\n",
        "    print(subtracts)\n",
        "else :\n",
        "    subtracts = second_number-first_number\n",
        "    print(subtracts)"
      ],
      "metadata": {
        "colab": {
          "base_uri": "https://localhost:8080/"
        },
        "id": "ddZPshb71o-W",
        "outputId": "11c7581c-3163-4a08-cf44-45fb32e5b530"
      },
      "execution_count": null,
      "outputs": [
        {
          "output_type": "stream",
          "name": "stdout",
          "text": [
            "Please Enter Your first Number :5\n",
            "Please Enter Your Second Number :5\n",
            "0\n"
          ]
        }
      ]
    },
    {
      "cell_type": "code",
      "source": [
        "#Task05\n",
        "number = int(input(\"Please Enter Your Number :\"))\n",
        "if number%2==0 :\n",
        "    print(\"The number is even\")\n",
        "else :\n",
        "    print(\"The number is odd\")"
      ],
      "metadata": {
        "colab": {
          "base_uri": "https://localhost:8080/"
        },
        "id": "gFzCX1N_2gip",
        "outputId": "16f6c341-4ac2-41a6-d23b-28ccdcaf8dab"
      },
      "execution_count": null,
      "outputs": [
        {
          "output_type": "stream",
          "name": "stdout",
          "text": [
            "Please Enter Your Number :-44\n",
            "The number is even\n"
          ]
        }
      ]
    },
    {
      "cell_type": "code",
      "source": [
        "#Task06\n",
        "number = int(input(\"Please Enter Your Number :\"))\n",
        "if number%2==0 or number%5==0 :\n",
        "    print(number)\n",
        "else:\n",
        "    print(\"Not a multiple of 2 OR 5\")"
      ],
      "metadata": {
        "colab": {
          "base_uri": "https://localhost:8080/"
        },
        "id": "wS8NhcD9p4t8",
        "outputId": "a5162494-43fa-4c63-900e-0cda9f3da0a8"
      },
      "execution_count": null,
      "outputs": [
        {
          "output_type": "stream",
          "name": "stdout",
          "text": [
            "Please Enter Your Number :3\n",
            "Not a multiple of 2 OR 5\n"
          ]
        }
      ]
    },
    {
      "cell_type": "code",
      "source": [
        "#Task07\n",
        "number = int(input(\"Please Enter Your Number :\"))\n",
        "if number%2==0 or number%5==0 :\n",
        "    print(number)\n",
        "    if number%2==0 and number%5==0 :\n",
        "        print(\"Multiple of 2 and 5 both\")\n",
        "else:\n",
        "    print(\"Not a multiple we want\")"
      ],
      "metadata": {
        "colab": {
          "base_uri": "https://localhost:8080/"
        },
        "id": "7JpNWKrtqzgP",
        "outputId": "cc1ad0d3-9b44-42bc-98e5-bc701ddc0437"
      },
      "execution_count": null,
      "outputs": [
        {
          "output_type": "stream",
          "name": "stdout",
          "text": [
            "Please Enter Your Number :17\n",
            "Not a multiple we want\n"
          ]
        }
      ]
    },
    {
      "cell_type": "code",
      "source": [
        "#Task08\n",
        "number = int(input(\"Please Enter Your Number :\"))\n",
        "if number%2==0 and number%5==0 :\n",
        "    print(number)\n",
        "else:\n",
        "    print(\"Not multiple of 2 and 5 both\")"
      ],
      "metadata": {
        "colab": {
          "base_uri": "https://localhost:8080/"
        },
        "id": "uew1mzovsCo9",
        "outputId": "768ec180-c58f-4cbb-dd8d-5d097751e395"
      },
      "execution_count": null,
      "outputs": [
        {
          "output_type": "stream",
          "name": "stdout",
          "text": [
            "Please Enter Your Number :15\n",
            "Not multiple of 2 and 5 both\n"
          ]
        }
      ]
    },
    {
      "cell_type": "code",
      "source": [
        "#Task09\n",
        "given_seconds = int(input(\"Please Enter The Number Of Seconds :\"))\n",
        "hour = given_seconds//3600\n",
        "second_remaining = given_seconds%3600\n",
        "minute = second_remaining//60\n",
        "second =second_remaining%60\n",
        "print(\"Hour :\",hour,\"Minute :\",minute,\"Second :\",second)"
      ],
      "metadata": {
        "colab": {
          "base_uri": "https://localhost:8080/"
        },
        "id": "vUjQTEODtLxi",
        "outputId": "294f9227-5be3-4fd8-b8b3-968f83122428"
      },
      "execution_count": null,
      "outputs": [
        {
          "output_type": "stream",
          "name": "stdout",
          "text": [
            "Please Enter The Number Of Seconds :500\n",
            "Hour : 0 Minute : 8 Second : 20\n"
          ]
        }
      ]
    },
    {
      "cell_type": "code",
      "source": [
        "#Task10\n",
        "hour_worked = int(input(\"Please Enter The Number Of Hour :\"))\n",
        "if hour_worked > 0:\n",
        "    if hour_worked<168:\n",
        "        if hour_worked<40:\n",
        "            payment = hour_worked*200\n",
        "        else :\n",
        "            payment = 8000+(hour_worked - 40)*300\n",
        "        print(payment)\n",
        "    else:\n",
        "        print('Impossible To Work')\n",
        "else:\n",
        "    print(\"Hours Cannot Be Negative\")"
      ],
      "metadata": {
        "colab": {
          "base_uri": "https://localhost:8080/"
        },
        "id": "MMZCE-GVu2E3",
        "outputId": "8651a0b8-c067-4d2e-deaa-0409dd2bd2df"
      },
      "execution_count": null,
      "outputs": [
        {
          "output_type": "stream",
          "name": "stdout",
          "text": [
            "Please Enter The Number Of Hour :30\n",
            "6000\n"
          ]
        }
      ]
    },
    {
      "cell_type": "code",
      "source": [
        "#Task11\n",
        "number = int(input(\"Please Enter Your Number :\"))\n",
        "if number>100 :\n",
        "    value = 12000/(4+(number**2)/14900)\n",
        "    print(value)\n",
        "else:\n",
        "    value = 3000-125*number**2\n",
        "    print(value)"
      ],
      "metadata": {
        "id": "aH2zGdyx7eO1",
        "colab": {
          "base_uri": "https://localhost:8080/"
        },
        "outputId": "474b4e0b-e259-41a3-819c-757bf5c8f230"
      },
      "execution_count": null,
      "outputs": [
        {
          "output_type": "stream",
          "name": "stdout",
          "text": [
            "Please Enter Your Number :120\n",
            "2416.2162162162163\n"
          ]
        }
      ]
    },
    {
      "cell_type": "code",
      "source": [
        "#Task12\n",
        "hour = int(input(\"Please Enter Your Hour :\"))\n",
        "if hour>0 and hour <24 :\n",
        "    if hour >= 4 and hour <= 6 :\n",
        "        print(\"Breakfast\")\n",
        "    elif hour >=12 and hour<=13 :\n",
        "        print(\"Lunch\")\n",
        "    elif hour>= 16 and hour <=17:\n",
        "        print(\"Snacks\")\n",
        "    elif hour >= 19 and hour <= 20 :\n",
        "        print(\"Dinner\")\n",
        "    else:\n",
        "        print(\"Patience is a virtue\")\n",
        "else:\n",
        "    print(\"Wrong Time\")"
      ],
      "metadata": {
        "colab": {
          "base_uri": "https://localhost:8080/"
        },
        "id": "12DIoHQh6hbU",
        "outputId": "f00ba292-5477-48d5-9510-9228dde6f8f8"
      },
      "execution_count": null,
      "outputs": [
        {
          "output_type": "stream",
          "name": "stdout",
          "text": [
            "Please Enter Your Hour :-11\n",
            "Wrong Time\n"
          ]
        }
      ]
    },
    {
      "cell_type": "code",
      "source": [
        "#Task13\n",
        "marks = int(input(\"Please Enter Your Marks :\"))\n",
        "if marks > 0 and marks <100 :\n",
        "    if marks >= 90 :\n",
        "        print(\"A\")\n",
        "    elif marks >= 80 :\n",
        "        print(\"B\")\n",
        "    elif marks >= 70 :\n",
        "        print(\"C\")\n",
        "    elif marks >= 60 :\n",
        "        print(\"D\")\n",
        "    elif marks >= 50 :\n",
        "        print(\"E\")\n",
        "    else :\n",
        "        print(\"F\")\n",
        "else:\n",
        "    print(\"Invalid Marks\")\n",
        "\n"
      ],
      "metadata": {
        "colab": {
          "base_uri": "https://localhost:8080/"
        },
        "id": "4ymKgUc987BV",
        "outputId": "9a478196-1a4b-4031-9465-60bafedcfc00"
      },
      "execution_count": null,
      "outputs": [
        {
          "output_type": "stream",
          "name": "stdout",
          "text": [
            "Please Enter Your Marks :-5\n",
            "Invalid Marks\n"
          ]
        }
      ]
    },
    {
      "cell_type": "code",
      "source": [
        "#Task14\n",
        "speed_in_meter = int(input(\"Please Enter The Distance :\"))\n",
        "second = int(input(\"Please Enter The Time :\"))\n",
        "value_of_meter = speed_in_meter / 1000\n",
        "value_of_second = second // 3600\n",
        "velocity = value_of_meter/value_of_second\n",
        "if velocity > 90 :\n",
        "    print(\"Too fast. Only a few changes should suffice\")\n",
        "elif velocity >= 60 and velocity <= 90 :\n",
        "    print(velocity,\"km/h\",\"\\nVelocity is okay. The car is ready!\")\n",
        "else:\n",
        "    print(velocity,\"km/h\",\"\\nToo slow. Needs more changes\")"
      ],
      "metadata": {
        "colab": {
          "base_uri": "https://localhost:8080/"
        },
        "id": "V8IkkBMC-6ep",
        "outputId": "33474c64-5356-423a-c070-1e48769446e9"
      },
      "execution_count": null,
      "outputs": [
        {
          "output_type": "stream",
          "name": "stdout",
          "text": [
            "Please Enter The Speed :25400\n",
            "Please Enter The Time :3600\n",
            "25.4 km/h \n",
            "Too slow. Needs more changes\n"
          ]
        }
      ]
    },
    {
      "cell_type": "code",
      "source": [
        "#Task15\n",
        "cgpa =float(input(\"Please Enter Your CGPA :\"))\n",
        "credit = int(input(\"Please Enter Your Credits :\"))\n",
        "if credit > 30 :\n",
        "    if cgpa >= 90 :\n",
        "        print(\"The student is eligible for a waiver of 100 percent\")\n",
        "    elif cgpa >= 3.95 :\n",
        "        print(\"The student is eligible for a waiver of 75 percent\")\n",
        "    elif cgpa >= 3.90 :\n",
        "        print(\"The student is eligible for a waiver of 50 percent\")\n",
        "    elif cgpa >= 3.80 :\n",
        "        print(\"The student is eligible for a waiver of 25 percent\")\n",
        "else:\n",
        "    print(\"The student is not eligible for a waiver\")"
      ],
      "metadata": {
        "colab": {
          "base_uri": "https://localhost:8080/"
        },
        "id": "neTSOx65CwWG",
        "outputId": "d4a10fb9-95c5-4a77-a3f3-8409dc03a0b3"
      },
      "execution_count": null,
      "outputs": [
        {
          "output_type": "stream",
          "name": "stdout",
          "text": [
            "Please Enter Your CGPA :3.80\n",
            "Please Enter Your Credits :31\n",
            "The student is eligible for a waiver of 25 percent\n"
          ]
        }
      ]
    },
    {
      "cell_type": "code",
      "source": [
        "#Task20\n",
        "number = int(input(\"Please Enter Your Number :\"))\n",
        "if number%2!=0 and number%5!=0 :\n",
        "    print(number)\n",
        "else :\n",
        "    print(\"NO\")"
      ],
      "metadata": {
        "colab": {
          "base_uri": "https://localhost:8080/"
        },
        "id": "_KBonXC6HEGb",
        "outputId": "eeb06777-291c-49a2-fabb-b2348321dfd9"
      },
      "execution_count": null,
      "outputs": [
        {
          "output_type": "stream",
          "name": "stdout",
          "text": [
            "Please Enter Your Number :21\n",
            "21\n"
          ]
        }
      ]
    },
    {
      "cell_type": "code",
      "source": [
        "#Task21\n",
        "number = int(input(\"please enter your number :\"))\n",
        "if number%2!=0 or number%5!=0 :\n",
        "    print(number)\n",
        "else:\n",
        "    print(\"NO\")"
      ],
      "metadata": {
        "id": "zdYdVt9ELCUL",
        "colab": {
          "base_uri": "https://localhost:8080/"
        },
        "outputId": "05ddb2e6-0ea4-4498-a798-f4d6e07bac70"
      },
      "execution_count": null,
      "outputs": [
        {
          "output_type": "stream",
          "name": "stdout",
          "text": [
            "please enter your number :20\n",
            "NO\n"
          ]
        }
      ]
    },
    {
      "cell_type": "code",
      "source": [
        "#Task22\n",
        "canvas = int(input(\"Please Enter Your Number Of Canvas :\"))\n",
        "paint_tube = int(input(\"Please Enter Your Number Of Paint Tube :\"))\n",
        "payment = canvas*120 + paint_tube*75\n",
        "if payment>=1000 :\n",
        "    discount= payment - 1000\n",
        "    print(\"Previous total :\",payment,\"New total after discount :\",discount)\n",
        "elif payment>750 :\n",
        "    discount = payment-50\n",
        "    print(\"Previous total :\",\"New total after discount :\",payment,discount)\n",
        "elif payment>500 :\n",
        "    discount = payment-20\n",
        "    print(\"Previous total :\",\"New total after discount :\",payment,discount)\n",
        "elif payment>300 :\n",
        "    discount = payment -10\n",
        "    print(\"Previous total :\",payment,\"New total after discount :\",discount)\n",
        "else :\n",
        "    discount = payment-0\n",
        "    print(\"Previous total :\",payment,\"New total after discount :\",discount)"
      ],
      "metadata": {
        "colab": {
          "base_uri": "https://localhost:8080/"
        },
        "id": "IxmDAGUU369D",
        "outputId": "e95bc1ee-6de7-46ad-e8e2-a46671c9c64e"
      },
      "execution_count": null,
      "outputs": [
        {
          "output_type": "stream",
          "name": "stdout",
          "text": [
            "Please Enter Your Number Of Canvas :5\n",
            "Please Enter Your Number Of Paint Tube :8\n",
            "Previous total : 1200 New total after discount : 200\n"
          ]
        }
      ]
    },
    {
      "cell_type": "code",
      "source": [
        "#Task23\n",
        "temp = int(input(\"Please Enter Your Temperature :\"))\n",
        "degrees_in_celsius = (temp-32)*0.56\n",
        "degrees_in_celsius = ((temp-32)*0.56)\n",
        "print(degrees_in_celsius,\"degrees C\")\n",
        "if degrees_in_celsius >= 30 :\n",
        "    print(\"Summer\")\n",
        "elif degrees_in_celsius>=25 :\n",
        "    print(\"Spring\")\n",
        "elif degrees_in_celsius>=20 :\n",
        "    print(\"Autumn\")\n",
        "else :\n",
        "    print(\"Winter\")"
      ],
      "metadata": {
        "colab": {
          "base_uri": "https://localhost:8080/"
        },
        "id": "3TZa9oBi8J49",
        "outputId": "75b00ec3-bb3b-490c-a88e-cbcfe5edce7f"
      },
      "execution_count": null,
      "outputs": [
        {
          "output_type": "stream",
          "name": "stdout",
          "text": [
            "Please Enter Your Temperature :76\n",
            "24.64 degrees C\n",
            "Autumn\n"
          ]
        }
      ]
    },
    {
      "cell_type": "code",
      "source": [
        "p = 5\n",
        "q = 6\n",
        "r = 9\n",
        "sum = 0\n",
        "if (p < 12):\n",
        "    print(r + 2)\n",
        "else:\n",
        "    print(r + p)\n",
        "if (q > 20):\n",
        "    print(r + 19)\n",
        "elif (q <= 6):\n",
        "    print(q + 3)\n",
        "else:\n",
        "    print(p + q + r)\n",
        "if (r > 15):\n",
        "    print(r)\n",
        "elif (r == 0):\n",
        "    print(p + q)\n",
        "else:\n",
        "    print(p)\n",
        "if (sum != 0):\n",
        "    print(3)\n",
        "else:\n",
        "    print(sum + 32)\n",
        "if (p>0 and r<10):\n",
        "    print(p+r)\n",
        "else:\n",
        "    print(p-r)\n",
        "\n"
      ],
      "metadata": {
        "colab": {
          "base_uri": "https://localhost:8080/"
        },
        "id": "JOYb0J2MPcSs",
        "outputId": "a2887c91-db7b-4303-be80-bbb80fab2b54"
      },
      "execution_count": null,
      "outputs": [
        {
          "output_type": "stream",
          "name": "stdout",
          "text": [
            "11\n",
            "9\n",
            "5\n",
            "32\n",
            "14\n"
          ]
        }
      ]
    },
    {
      "cell_type": "code",
      "source": [
        "result4 = (True or True) or ((False and True) and False)\n",
        "print(result4)"
      ],
      "metadata": {
        "id": "w1COU4ZdKEs2"
      },
      "execution_count": null,
      "outputs": []
    }
  ]
}