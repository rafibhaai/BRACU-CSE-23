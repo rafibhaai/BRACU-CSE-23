{
  "nbformat": 4,
  "nbformat_minor": 0,
  "metadata": {
    "colab": {
      "provenance": []
    },
    "kernelspec": {
      "name": "python3",
      "display_name": "Python 3"
    },
    "language_info": {
      "name": "python"
    }
  },
  "cells": [
    {
      "cell_type": "code",
      "execution_count": null,
      "metadata": {
        "colab": {
          "base_uri": "https://localhost:8080/"
        },
        "id": "SGm3PPOJi0mH",
        "outputId": "1138efb0-edd0-4da6-9b1b-bdc226ce5ecc"
      },
      "outputs": [
        {
          "output_type": "stream",
          "name": "stdout",
          "text": [
            "hello world\n"
          ]
        }
      ],
      "source": [
        "#TAsk 01\n",
        "word = \"hello world\"\n",
        "print(word)"
      ]
    },
    {
      "cell_type": "code",
      "source": [
        "#Task 02\n",
        "print(54+56)"
      ],
      "metadata": {
        "colab": {
          "base_uri": "https://localhost:8080/"
        },
        "id": "awln2oh8uC0l",
        "outputId": "c01d4fd2-26ee-47f4-94de-7942d531c938"
      },
      "execution_count": null,
      "outputs": [
        {
          "output_type": "stream",
          "name": "stdout",
          "text": [
            "110\n"
          ]
        }
      ]
    },
    {
      "cell_type": "code",
      "source": [
        "#Task 03\n",
        "season = \"Fall\"\n",
        "year = \"2022\"\n",
        "print(season)\n",
        "print(year)"
      ],
      "metadata": {
        "colab": {
          "base_uri": "https://localhost:8080/"
        },
        "id": "8XjDFNriuRXN",
        "outputId": "5b0f2249-5276-44dd-c8aa-feb360911c7a"
      },
      "execution_count": null,
      "outputs": [
        {
          "output_type": "stream",
          "name": "stdout",
          "text": [
            "Fall\n",
            "2022\n"
          ]
        }
      ]
    },
    {
      "cell_type": "code",
      "source": [
        "#Task 04\n",
        "name = input(\"Please Enter Your Name :\")\n",
        "print(\"Your name is \",name)"
      ],
      "metadata": {
        "colab": {
          "base_uri": "https://localhost:8080/"
        },
        "id": "wlasqBeAuxmV",
        "outputId": "f2a5a136-767f-475f-b169-550e75978c30"
      },
      "execution_count": null,
      "outputs": [
        {
          "output_type": "stream",
          "name": "stdout",
          "text": [
            "Please Enter Your Name :Albert\n",
            "Your name is  Albert\n"
          ]
        }
      ]
    },
    {
      "cell_type": "code",
      "source": [
        "#Task 05\n",
        "first_number = int(input(\"Please Enter Your First Number :\"))\n",
        "second_number = int(input(\"Please Enter Your Second Number :\"))\n",
        "value = first_number**second_number\n",
        "print(str(first_number)+\"^\"+str(second_number)+\": \"+str(value))"
      ],
      "metadata": {
        "colab": {
          "base_uri": "https://localhost:8080/"
        },
        "id": "0LEbVc6fvuNV",
        "outputId": "b2f92f67-9460-4c47-f720-6053e68efa65"
      },
      "execution_count": null,
      "outputs": [
        {
          "output_type": "stream",
          "name": "stdout",
          "text": [
            "Please Enter Your First Number :2\n",
            "Please Enter Your Second Number :3\n",
            "2^3: 8\n"
          ]
        }
      ]
    },
    {
      "cell_type": "code",
      "source": [
        "#Task 06\n",
        "total_weight = int(input(\"Please Enter The Number Of Total Weight :\"))\n",
        "carry = total_weight - total_weight%4\n",
        "print(carry)"
      ],
      "metadata": {
        "id": "Ab__SPNkxoT7",
        "colab": {
          "base_uri": "https://localhost:8080/"
        },
        "outputId": "aa31c215-9dc2-4796-db55-02fc0314b64c"
      },
      "execution_count": null,
      "outputs": [
        {
          "output_type": "stream",
          "name": "stdout",
          "text": [
            "Please Enter The Number Of Total Weight :9\n",
            "8\n"
          ]
        }
      ]
    },
    {
      "cell_type": "code",
      "source": [
        "#Task 07\n",
        "a = int(input(\"Please Enter Your First Number :\"))\n",
        "b = int(input(\"Please Enter Your Second Number :\"))\n",
        "c = int(input(\"Please Enter Your Third Number :\"))\n",
        "d = float(input(\"Please Enter Your Fourth Number :\"))\n",
        "formula = int(a**c+b*a-d/3)\n",
        "print(formula)"
      ],
      "metadata": {
        "colab": {
          "base_uri": "https://localhost:8080/"
        },
        "id": "wwO6D_Eoz_K_",
        "outputId": "2e463caf-3008-4d18-8cf4-bcc08c79cc2e"
      },
      "execution_count": null,
      "outputs": [
        {
          "output_type": "stream",
          "name": "stdout",
          "text": [
            "Please Enter Your First Number :2\n",
            "Please Enter Your Second Number :6\n",
            "Please Enter Your Third Number :8\n",
            "Please Enter Your Fourth Number :1.3\n",
            "267\n"
          ]
        }
      ]
    },
    {
      "cell_type": "code",
      "source": [
        "#Task 08\n",
        "total_chocolate = int(input(\"Please Enter The Number Of Chocolate : \"))\n",
        "giveaway = (total_chocolate//3)\n",
        "chocolate_remaining = (total_chocolate%giveaway)\n",
        "print(\"Each friend will receive\",int(giveaway),\"chocolates\")\n",
        "print(\"The number of remaining chocolates is\",int(chocolate_remaining))"
      ],
      "metadata": {
        "id": "bTX-H5b-1JlY",
        "colab": {
          "base_uri": "https://localhost:8080/"
        },
        "outputId": "4550faeb-94c1-41ef-8504-f602beeecd8e"
      },
      "execution_count": null,
      "outputs": [
        {
          "output_type": "stream",
          "name": "stdout",
          "text": [
            "Please Enter The Number Of Chocolate : 90\n",
            "Each friend will receive 30 chocolates\n",
            "The number of remaining chocolates is 0\n"
          ]
        }
      ]
    },
    {
      "cell_type": "code",
      "source": [
        "#Task09\n",
        "first_value = input(\"Please Enter Your First  Value :\")\n",
        "second_value = input(\"Please Enter Your Second  Value :\")\n",
        "con = second_value + first_value\n",
        "print(con)"
      ],
      "metadata": {
        "colab": {
          "base_uri": "https://localhost:8080/"
        },
        "id": "Nu01rGMp3Y4g",
        "outputId": "25ae7de7-080b-4a5d-af51-da15ddabaf71"
      },
      "execution_count": null,
      "outputs": [
        {
          "output_type": "stream",
          "name": "stdout",
          "text": [
            "Please Enter Your First  Value :5\n",
            "Please Enter Your Second  Value :2\n",
            "25\n"
          ]
        }
      ]
    },
    {
      "cell_type": "code",
      "source": [
        "#Task10\n",
        "line = input(\"Please Enter Your line :\")\n",
        "print(line[0])"
      ],
      "metadata": {
        "id": "wpOSpR_o7G21",
        "colab": {
          "base_uri": "https://localhost:8080/"
        },
        "outputId": "71819566-e1f1-41d2-b5f8-65a7bb31b4bf"
      },
      "execution_count": null,
      "outputs": [
        {
          "output_type": "stream",
          "name": "stdout",
          "text": [
            "Please Enter Your line :Python is an interpreted language\n",
            "P\n"
          ]
        }
      ]
    },
    {
      "cell_type": "code",
      "source": [
        "#Task11\n",
        "number = int(input(\"Please Enter Your Number :\"))\n",
        "if number %2==0 :\n",
        "    print(\"True\")\n",
        "else:\n",
        "    print(\"False\")"
      ],
      "metadata": {
        "colab": {
          "base_uri": "https://localhost:8080/"
        },
        "id": "pIshSVZLhqy4",
        "outputId": "7592e22f-241b-43f2-95d8-a0d888ca85a5"
      },
      "execution_count": null,
      "outputs": [
        {
          "output_type": "stream",
          "name": "stdout",
          "text": [
            "Please Enter Your Number :-11\n",
            "False\n"
          ]
        }
      ]
    },
    {
      "cell_type": "code",
      "source": [
        "chocolate = int(input(\"Please Enter The Of Your Chocolate :\"))\n",
        "diye_dilam = chocolate //3\n",
        "chocolate_baki = chocolate % diye_dilam\n",
        "print(\"sobai chocolate paibe\",diye_dilam,\"ta\")\n",
        "print(\"Obosistho Thakbe\",chocolate_baki.\"ta\")"
      ],
      "metadata": {
        "colab": {
          "base_uri": "https://localhost:8080/"
        },
        "id": "bWTvIzjmEQcN",
        "outputId": "4ca8e829-13db-43c3-891a-648a55558aa8"
      },
      "execution_count": null,
      "outputs": [
        {
          "output_type": "stream",
          "name": "stdout",
          "text": [
            "Please Enter The Of Your Chocolate :50\n",
            "sobai chocolate paibe 16 ta\n",
            "Obosistho Thakbe 2\n"
          ]
        }
      ]
    },
    {
      "cell_type": "code",
      "source": [
        "total_weight = int(input(\"Please Enter The Total Weight :\"))\n",
        "can_carry = total_weight - total_weight % 4\n",
        "print(can_carry)"
      ],
      "metadata": {
        "colab": {
          "base_uri": "https://localhost:8080/"
        },
        "id": "MVPfgv28E4xx",
        "outputId": "09ad0160-e424-4528-eae5-cddd7616b2bc"
      },
      "execution_count": null,
      "outputs": [
        {
          "output_type": "stream",
          "name": "stdout",
          "text": [
            "Please Enter The Total Weight :9\n",
            "8\n"
          ]
        }
      ]
    }
  ]
}