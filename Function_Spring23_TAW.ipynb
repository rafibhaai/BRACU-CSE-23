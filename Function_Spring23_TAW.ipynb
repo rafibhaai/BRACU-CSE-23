{
  "nbformat": 4,
  "nbformat_minor": 0,
  "metadata": {
    "colab": {
      "provenance": []
    },
    "kernelspec": {
      "name": "python3",
      "display_name": "Python 3"
    },
    "language_info": {
      "name": "python"
    }
  },
  "cells": [
    {
      "cell_type": "code",
      "execution_count": null,
      "metadata": {
        "colab": {
          "base_uri": "https://localhost:8080/"
        },
        "id": "Ja6XaxlJHetY",
        "outputId": "ef36bf83-9b64-466b-a609-e86d9ca10698"
      },
      "outputs": [
        {
          "output_type": "stream",
          "name": "stdout",
          "text": [
            "Please Enter Your Number :45\n",
            "Odd\n"
          ]
        }
      ],
      "source": [
        "#Task01\n",
        "def even_checker(n):\n",
        "    if n%2==0:\n",
        "        print(\"Even\")\n",
        "    else:\n",
        "        print(\"Odd\")\n",
        "n=int(input(\"Please Enter Your Number :\"))\n",
        "even_checker(n)"
      ]
    },
    {
      "cell_type": "code",
      "source": [
        "# def add(n1,n2=0,n3=0):\n",
        "#     print(n1+n2+n3)\n",
        "# add(1,2,3)\n",
        "# add(1,2)\n",
        "# add(1)\n",
        "# print(\"Last Line Of The Code\")\n",
        "# #/////////////////////////////////////////////\n",
        "# def myfunc():\n",
        "#     print(\"My Function Is Working\")\n",
        "# myfunc()\n",
        "# print(\"Last Line Of The Code\")\n",
        "# ////////////////////////////\n",
        "def myfunc(*num):\n",
        "    print(num)\n",
        "myfunc(8,9,10)\n",
        "myfunc(8,9)\n",
        "\n",
        "# def myfunc(str):\n",
        "#     box=0\n",
        "#     for i in str:\n",
        "#         if \"0\"< i <\"9\":\n",
        "#             box+=int(i)\n",
        "#     return box\n",
        "\n",
        "# print(box)\n",
        "# myfunc(\"30 april tomader sathe last class\")\n",
        "# myfunc(\"Quiz-5 30 tarikh Hobe\")"
      ],
      "metadata": {
        "colab": {
          "base_uri": "https://localhost:8080/"
        },
        "id": "M21cf333I4RF",
        "outputId": "d5204102-59d3-41a0-a339-03ac481e9ea9"
      },
      "execution_count": null,
      "outputs": [
        {
          "output_type": "stream",
          "name": "stdout",
          "text": [
            "(8, 9, 10)\n",
            "(8, 9)\n"
          ]
        }
      ]
    },
    {
      "cell_type": "code",
      "source": [
        "#Task02\n",
        "def fibonacci(number):\n",
        "    num1=0\n",
        "    num2=1\n",
        "    print(num1,end=\" \")\n",
        "    print(num2,end=\" \")\n",
        "    for i in range(number-1):\n",
        "        sum=num1+num2\n",
        "        num1=num2\n",
        "        num2=sum\n",
        "        if sum>=number:\n",
        "            break\n",
        "        print(sum,end=\" \")\n",
        "number= int(input(\"Please Enter Your Number :\"))\n",
        "fibonacci(number)"
      ],
      "metadata": {
        "colab": {
          "base_uri": "https://localhost:8080/"
        },
        "id": "G19uzU4xLJxm",
        "outputId": "60f20c09-9fbc-416b-afb4-2f536401cd0f"
      },
      "execution_count": null,
      "outputs": [
        {
          "output_type": "stream",
          "name": "stdout",
          "text": [
            "Please Enter Your Number :5\n",
            "0 1 1 2 3 "
          ]
        }
      ]
    },
    {
      "cell_type": "code",
      "source": [
        "#Task03\n",
        "def foo_moo(number):\n",
        "    string=\"\"\n",
        "    if number%2==0 and number%3==0:\n",
        "        string=(\"FooMoo\")\n",
        "    elif number%2!=0:\n",
        "       string=(\"Moo\")\n",
        "    elif number%2==0:\n",
        "        string=(\"Foo\")\n",
        "    else:\n",
        "        string=(\"Boo\")\n",
        "    return string\n",
        "numbers=int(input(\"Please Enter Your Number :\"))\n",
        "print(foo_moo(numbers))"
      ],
      "metadata": {
        "colab": {
          "base_uri": "https://localhost:8080/"
        },
        "id": "2WzF5FfebWRk",
        "outputId": "d4a93141-4e29-42a7-d8b7-9d4a6565cb3c"
      },
      "execution_count": null,
      "outputs": [
        {
          "output_type": "stream",
          "name": "stdout",
          "text": [
            "Please Enter Your Number :30\n",
            "FooMoo\n"
          ]
        }
      ]
    },
    {
      "cell_type": "code",
      "source": [
        "#Task04\n",
        "def myfunc(string):\n",
        "    up=0\n",
        "    low=0\n",
        "    for i in string:\n",
        "        if \"A\" <=i<= \"Z\":\n",
        "            up+=1\n",
        "        elif \"a\"<=i<=\"z\":\n",
        "            low+=1\n",
        "    print(\"No. of Uppercase characters :\",up)\n",
        "    print(\"No. of Lowercase Characters: \",low)\n",
        "string=input(\"Please Enter Your String :\")\n",
        "myfunc(string)"
      ],
      "metadata": {
        "colab": {
          "base_uri": "https://localhost:8080/"
        },
        "id": "u2pqJ6MxUlVd",
        "outputId": "50e4944c-29c5-4dc7-c189-9f86c1c4a10f"
      },
      "execution_count": null,
      "outputs": [
        {
          "output_type": "stream",
          "name": "stdout",
          "text": [
            "Please Enter Your String :HaRRy PotteR\n",
            "No. of Uppercase characters : 5\n",
            "No. of Lowercase Characters:  6\n"
          ]
        }
      ]
    },
    {
      "cell_type": "code",
      "source": [
        "#Task05\n",
        "def calculate_tax(age,salary,current_job):\n",
        "    tax=0\n",
        "    if age<10 or salary<10000 or current_job==\"President\":\n",
        "        tex=0\n",
        "    elif 10000<=salary<=20000:\n",
        "        tax= (salary*5)/100\n",
        "    elif salary>20000:\n",
        "        tax= (salary*10)/100\n",
        "    return tax\n",
        "age=int(input(\"please Enter Your Age :\"))\n",
        "salary=int(input(\"please Enter Your Salary :\"))\n",
        "current_job=input(\"please Enter Yourcurrent_job :\")\n",
        "print(calculate_tax(age,salary,current_job))"
      ],
      "metadata": {
        "colab": {
          "base_uri": "https://localhost:8080/"
        },
        "id": "I67DiTPWWrws",
        "outputId": "cd48bff2-1d20-4310-c462-ec9a39d6d229"
      },
      "execution_count": null,
      "outputs": [
        {
          "output_type": "stream",
          "name": "stdout",
          "text": [
            "please Enter Your Age :20\n",
            "please Enter Your Salary :18000\n",
            "please Enter Yourcurrent_job :Bekar\n",
            "900.0\n"
          ]
        }
      ]
    },
    {
      "cell_type": "code",
      "source": [
        "#Task06\n",
        "def number_of_days(number):\n",
        "    year=int(number/365)\n",
        "    remaining_days=(number%365)\n",
        "    months=int(remaining_days/30)\n",
        "    days=int(remaining_days%30)\n",
        "    print(\"Years:\",year,\"Months:\",months,\"Days:\",days)\n",
        "number=int(input(\"please Enter Your Number Of Days :\"))\n",
        "number_of_days(number)\n"
      ],
      "metadata": {
        "colab": {
          "base_uri": "https://localhost:8080/"
        },
        "id": "_jYLbur-bSSQ",
        "outputId": "96a55d94-5153-409a-f9a7-f1519615bff3"
      },
      "execution_count": null,
      "outputs": [
        {
          "output_type": "stream",
          "name": "stdout",
          "text": [
            "please Enter Your Number Of Days :448\n",
            "Years: 1 Months: 2 Days: 23\n"
          ]
        }
      ]
    },
    {
      "cell_type": "code",
      "source": [
        "#Task07\n",
        "def show_palindrome(number):\n",
        "    box=\"\"\n",
        "    box2=0\n",
        "    for i in range(1,number):\n",
        "        box+=str(i)\n",
        "    for j in range(number,0,-1):\n",
        "        box+=str(j)\n",
        "    box2=int(box)\n",
        "    return box2\n",
        "number=int(input(\"Please Enter Your Number :\"))\n",
        "print(show_palindrome(number))"
      ],
      "metadata": {
        "colab": {
          "base_uri": "https://localhost:8080/"
        },
        "id": "ErO-X_95h1B9",
        "outputId": "6ec6b541-1973-4604-882c-ccd094b0da6d"
      },
      "execution_count": null,
      "outputs": [
        {
          "output_type": "stream",
          "name": "stdout",
          "text": [
            "Please Enter Your Number :10\n",
            "12345678910987654321\n"
          ]
        }
      ]
    },
    {
      "cell_type": "code",
      "source": [
        "#Task09\n",
        "import math\n",
        "def area_circumference_generator(radius):\n",
        "    area = math.pi*radius**2\n",
        "    perimeter = 2*math.pi*radius\n",
        "    mytuple= area,perimeter\n",
        "    return mytuple\n",
        "radius = float(input(\"Enter radius of circle: \"))\n",
        "print(area_circumference_generator(radius))\n",
        "x,y = area_circumference_generator(radius)\n",
        "print(\"Area of the circle is :\",x,\"and circumference is :\",y)"
      ],
      "metadata": {
        "colab": {
          "base_uri": "https://localhost:8080/"
        },
        "id": "AXLsss2pm3KG",
        "outputId": "2bc669c5-e535-4e85-ea6b-508d1fec7d18"
      },
      "execution_count": null,
      "outputs": [
        {
          "output_type": "stream",
          "name": "stdout",
          "text": [
            "Enter radius of circle: 1.5\n",
            "(7.0685834705770345, 9.42477796076938)\n",
            "Area of the circle is : 7.0685834705770345 and circumference is : 9.42477796076938\n"
          ]
        }
      ]
    },
    {
      "cell_type": "code",
      "source": [
        "#Task11\n",
        "def rem_duplicate(mytuple):\n",
        "    newlist=[]\n",
        "    for i in mytuple:\n",
        "        if i not in newlist:\n",
        "            newlist.append(i)\n",
        "        newtuple=tuple(newlist)\n",
        "    return newtuple\n",
        "print(rem_duplicate((\"Hi\", 1, 2, 3, 3, \"Hi\",'a', 'a', [1,2])))"
      ],
      "metadata": {
        "colab": {
          "base_uri": "https://localhost:8080/"
        },
        "id": "rcEgo_K4-1KS",
        "outputId": "dd0075ec-ad2f-4b1c-a695-c996d66132ed"
      },
      "execution_count": null,
      "outputs": [
        {
          "output_type": "stream",
          "name": "stdout",
          "text": [
            "('Hi', 1, 2, 3, 'a', [1, 2])\n"
          ]
        }
      ]
    },
    {
      "cell_type": "code",
      "source": [
        "#Task12\n",
        "def max_two(mylist):\n",
        "    newlist=[]\n",
        "    for i in mylist:\n",
        "        if i not in newlist:\n",
        "            newlist.append(i)\n",
        "        elif i in newlist and newlist.count(i)<2:\n",
        "            newlist.append(i)\n",
        "    return f\"Removed :{len(mylist)-len(newlist)}\\n{newlist}\"\n",
        "\n",
        "print(max_two(([1, 2, 3, 3, 3, 3, 4, 5, 8, 8])))"
      ],
      "metadata": {
        "colab": {
          "base_uri": "https://localhost:8080/"
        },
        "id": "0MN5QaSxi37H",
        "outputId": "3253efcc-e6e6-4c38-b222-7544339c766e"
      },
      "execution_count": null,
      "outputs": [
        {
          "output_type": "stream",
          "name": "stdout",
          "text": [
            "Removed :2\n",
            "[1, 2, 3, 3, 4, 5, 8, 8]\n"
          ]
        }
      ]
    },
    {
      "cell_type": "code",
      "source": [
        "#Task13\n",
        "def calculate(operator,first_number,second_number):\n",
        "    if operator==\"+\":\n",
        "        result= first_number+second_number\n",
        "    elif operator ==\"-\":\n",
        "        result= first_number-second_number\n",
        "    elif operator==\"*\":\n",
        "        result= first_number*second_number\n",
        "    elif operator==\"/\":\n",
        "        result= first_number*second_number\n",
        "    return result\n",
        "operator =(input(\"Please Select Your Operator :('+','-','*','/')\"))\n",
        "first_number= float(input(\"Please Enter Your First Number :\"))\n",
        "second_number=float(input(\"Please Enter Your Second Number :\"))\n",
        "print(calculate(operator,first_number,second_number))"
      ],
      "metadata": {
        "colab": {
          "base_uri": "https://localhost:8080/"
        },
        "id": "eoMHGNBCn8G8",
        "outputId": "1698b2aa-db2a-414b-e015-2899deee6557"
      },
      "execution_count": null,
      "outputs": [
        {
          "output_type": "stream",
          "name": "stdout",
          "text": [
            "Please Select Your Operator :('+','-','*','/')*\n",
            "Please Enter Your First Number :5\n",
            "Please Enter Your Second Number :6\n",
            "30.0\n"
          ]
        }
      ]
    },
    {
      "cell_type": "code",
      "source": [
        "#Task14\n",
        "def function_name(sentence,position):\n",
        "    string1=\"\"\n",
        "    string2=\"\"\n",
        "    for i in range(1,len(sentence)):\n",
        "        if i%position==0:\n",
        "            string1+=sentence[i]\n",
        "        else:\n",
        "            string2+=sentence[i]\n",
        "    return string2+string1\n",
        "sentence=input(\"Please Enter Your Sentence :\")\n",
        "position=int(input(\"Please Enter Your Position :\"))\n",
        "function_name(sentence,position)"
      ],
      "metadata": {
        "colab": {
          "base_uri": "https://localhost:8080/",
          "height": 70
        },
        "id": "1BT0LiK7qwep",
        "outputId": "1b9c09f7-17a8-4585-94ac-d0273a0c31b1"
      },
      "execution_count": null,
      "outputs": [
        {
          "name": "stdout",
          "output_type": "stream",
          "text": [
            "Please Enter Your Sentence :I love programming.\n",
            "Please Enter Your Position :3\n"
          ]
        },
        {
          "output_type": "execute_result",
          "data": {
            "text/plain": [
              "' lveprgrmmngo oai.'"
            ],
            "application/vnd.google.colaboratory.intrinsic+json": {
              "type": "string"
            }
          },
          "metadata": {},
          "execution_count": 54
        }
      ]
    },
    {
      "cell_type": "code",
      "source": [
        "#Task15\n",
        "def myfunction(mylist,location=\"Dhanmondi\"):\n",
        "    mydict= {'Rice': 105,'Potato': 20,'Chicken': 250,'Beef': 510,'Oil': 85}\n",
        "    counter=0\n",
        "    for i in mylist:\n",
        "        counter+= mydict[i]\n",
        "    if location== \"Dhanmondi\":\n",
        "        counter+=30\n",
        "    else:\n",
        "        counter+=70\n",
        "    return counter\n",
        "mylist= input(\"Please Enter Your Products :\")\n",
        "mylist= mylist[1:-1].replace('\"','').split(\", \")\n",
        "print(myfunction(mylist,\"Rafi\"))"
      ],
      "metadata": {
        "id": "G758LTRittV0",
        "colab": {
          "base_uri": "https://localhost:8080/"
        },
        "outputId": "6dd9b7c5-a3f2-4c56-b5bc-1900f8f77f81"
      },
      "execution_count": null,
      "outputs": [
        {
          "output_type": "stream",
          "name": "stdout",
          "text": [
            "Please Enter Your Products :[\"Rice\", \"Beef\", \"Rice\"]\n",
            "790\n"
          ]
        }
      ]
    },
    {
      "cell_type": "code",
      "source": [
        "#Tuple\n",
        "book_info = ((\"Best Mystery & Thriller\",\"The Silent Patient\",68821),\n",
        "(\"Best Horror\",\"The Institute\",75717),\n",
        "(\"Best History & Biography\",\"The five\",31783 ),\n",
        "(\"Best Fiction\",\"The Testaments\",98291))\n",
        "a,b,c,d=book_info\n",
        "print(a[1])\n"
      ],
      "metadata": {
        "colab": {
          "base_uri": "https://localhost:8080/"
        },
        "id": "v83iz9xvIALH",
        "outputId": "023fbc00-1c09-47bc-f3a6-3fa450a01236"
      },
      "execution_count": null,
      "outputs": [
        {
          "output_type": "stream",
          "name": "stdout",
          "text": [
            "The Silent Patient\n"
          ]
        }
      ]
    },
    {
      "cell_type": "code",
      "source": [
        "book_info = (\n",
        "(\"Best Mystery & Thriller\",\"The Silent Patient\",68821),\n",
        "(\"Best Horror\",\"The Institute\",75717),\n",
        "(\"Best History & Biography\",\"The five\",31783 ),\n",
        "(\"Best Fiction\",\"The Testaments\",98291)\n",
        ")\n",
        "for i in range(len(book_info)):\n",
        "    print(f\"{book_info[i][1]} won the'{book_info[i][0]}'category with {book_info[i][2]} votes\")\n"
      ],
      "metadata": {
        "colab": {
          "base_uri": "https://localhost:8080/"
        },
        "id": "OAWNcJxqIYt3",
        "outputId": "ad15e8b7-4c5a-4a94-8a03-80f20273a280"
      },
      "execution_count": null,
      "outputs": [
        {
          "output_type": "stream",
          "name": "stdout",
          "text": [
            "The Silent Patient won the'Best Mystery & Thriller'category with 68821 votes\n",
            "The Institute won the'Best Horror'category with 75717 votes\n",
            "The five won the'Best History & Biography'category with 31783 votes\n",
            "The Testaments won the'Best Fiction'category with 98291 votes\n"
          ]
        }
      ]
    },
    {
      "cell_type": "code",
      "source": [
        "book_info = (\n",
        "(\"Best Mystery & Thriller\",\"The Silent Patient\",68821),\n",
        "(\"Best Horror\",\"The Institute\",75717),\n",
        "(\"Best History & Biography\",\"The five\",31783 ),\n",
        "(\"Best Fiction\",\"The Testaments\",98291)\n",
        ")\n",
        "for i in range(len(book_info)):\n",
        "    print(f\"{book_info[i][1]} won the '{book_info[i][0]}' category with {book_info[i][2]} votes\")"
      ],
      "metadata": {
        "colab": {
          "base_uri": "https://localhost:8080/"
        },
        "id": "fV2xLzFHKb8S",
        "outputId": "9cd0e312-c9b7-4796-8114-401d9a954516"
      },
      "execution_count": null,
      "outputs": [
        {
          "output_type": "stream",
          "name": "stdout",
          "text": [
            "The Silent Patient won the 'Best Mystery & Thriller' category with 68821 votes\n",
            "The Institute won the 'Best Horror' category with 75717 votes\n",
            "The five won the 'Best History & Biography' category with 31783 votes\n",
            "The Testaments won the 'Best Fiction' category with 98291 votes\n"
          ]
        }
      ]
    }
  ]
}