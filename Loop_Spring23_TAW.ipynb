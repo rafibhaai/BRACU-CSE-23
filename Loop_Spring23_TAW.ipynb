{
  "nbformat": 4,
  "nbformat_minor": 0,
  "metadata": {
    "colab": {
      "provenance": []
    },
    "kernelspec": {
      "name": "python3",
      "display_name": "Python 3"
    },
    "language_info": {
      "name": "python"
    }
  },
  "cells": [
    {
      "cell_type": "code",
      "execution_count": null,
      "metadata": {
        "colab": {
          "base_uri": "https://localhost:8080/"
        },
        "id": "IpHIRR8SCY_a",
        "outputId": "61fcdaca-10b1-42ec-ff7f-9c24ff764262"
      },
      "outputs": [
        {
          "output_type": "stream",
          "name": "stdout",
          "text": [
            "18,-27,36,-45,54,63"
          ]
        }
      ],
      "source": [
        "#TASK01 #While\n",
        "# counter = 24\n",
        "# while counter >= -6 :\n",
        "#     if counter == -6 :\n",
        "#         print(counter , end =\"\")\n",
        "#     else:\n",
        "#         print(counter,end =\",\")\n",
        "#     counter += -6\n",
        "\n",
        "\n",
        "#TAsk01 #for\n",
        "# for i in range(24,-7,-6):\n",
        "#     if i==-6:\n",
        "#         print(i,end=\"\")\n",
        "#     else:\n",
        "#         print(i,end=\",\")\n",
        "\n",
        "\n",
        "# counter = -10\n",
        "# while counter <=20:\n",
        "#     if counter==20:\n",
        "#         print(counter,end =\"\")\n",
        "#     else:\n",
        "#         print(counter,end = \",\")\n",
        "#     counter+= 5\n",
        "\n",
        "# counter = 18\n",
        "# while counter<=63:\n",
        "#     if counter == 63:\n",
        "#         print(counter,end = \"\")\n",
        "#     else:\n",
        "#         print(counter,end=\",\")\n",
        "#     counter+=9\n",
        "\n",
        "# counter = 18\n",
        "# while counter<=63:\n",
        "#     if counter==63:\n",
        "#         print(counter,end=\"\")\n",
        "#     elif counter%2==0:\n",
        "#         print(counter,end=\",\")\n",
        "#     else:\n",
        "#         print(-counter,end=\",\")\n",
        "#     counter +=9\n",
        "#For\n",
        "for i in range(18,64,9):\n",
        "    if i==63:\n",
        "        print(i,end=\"\")\n",
        "    elif i%2==0:\n",
        "        print(i,end=\",\")\n",
        "    else:\n",
        "        print(-i,end=\",\")"
      ]
    },
    {
      "cell_type": "code",
      "source": [
        "#TASK02 #01\n",
        "# car_name = input(\"Please Enter The Name Of Your Favourite Car :\")\n",
        "# number = int(input(\"Please Enter A Number :\"))\n",
        "# counter = 0\n",
        "# while counter < number:\n",
        "#     print(car_name)\n",
        "#     counter+=1\n",
        "#For.................................................\n",
        "car_name = input(\"Please Enter The Name Of Your Favourite Car :\")\n",
        "number=int(input(\"Please Enter A Number :\"))\n",
        "for i in range(number):\n",
        "    print(car_name)"
      ],
      "metadata": {
        "colab": {
          "base_uri": "https://localhost:8080/"
        },
        "id": "xMdCCq7jDoQ4",
        "outputId": "856908b2-38f5-4cb8-f4bd-0ec008e019e6"
      },
      "execution_count": null,
      "outputs": [
        {
          "output_type": "stream",
          "name": "stdout",
          "text": [
            "Please Enter The Name Of Your Favourite Car :AUDI\n",
            "Please Enter A Number5\n",
            "AUDI\n",
            "AUDI\n",
            "AUDI\n",
            "AUDI\n",
            "AUDI\n"
          ]
        }
      ]
    },
    {
      "cell_type": "code",
      "source": [
        "#TASK03\n",
        "# counter = 0\n",
        "# sum = 0\n",
        "# while counter <=600:\n",
        "#     if counter%7==0 and counter%9==0:\n",
        "#         sum = sum+counter\n",
        "#     counter+=1\n",
        "# print(sum)\n",
        "#For..........................................\n",
        "sum = 0\n",
        "for i in range(600):\n",
        "    if i%7==0 and i%9==0:\n",
        "        sum+=i\n",
        "print(sum)\n",
        "\n"
      ],
      "metadata": {
        "colab": {
          "base_uri": "https://localhost:8080/"
        },
        "id": "AV_FmW_4L6sM",
        "outputId": "9f358670-8bdd-4e9e-9272-04274bad9fd1"
      },
      "execution_count": null,
      "outputs": [
        {
          "output_type": "stream",
          "name": "stdout",
          "text": [
            "2835\n"
          ]
        }
      ]
    },
    {
      "cell_type": "code",
      "source": [
        "#TASK04 #03\n",
        "# counter = 0\n",
        "# sum = 0\n",
        "# while counter <=600:\n",
        "#     if counter%7==0 or counter%9==0:\n",
        "#         sum = sum+counter\n",
        "#     counter+=1\n",
        "# print(sum)\n",
        "#For"
      ],
      "metadata": {
        "colab": {
          "base_uri": "https://localhost:8080/"
        },
        "id": "0gfDupCepwyL",
        "outputId": "05164cc0-bcf2-4f69-896a-80bbe5e373e6"
      },
      "execution_count": null,
      "outputs": [
        {
          "output_type": "stream",
          "name": "stdout",
          "text": [
            "400975\n"
          ]
        }
      ]
    },
    {
      "cell_type": "code",
      "source": [
        "#task05\n",
        "# counter = 1\n",
        "# sum = 0\n",
        "# while counter <=600:\n",
        "#     if (counter%7==0 and counter%9!=0) or (counter%7!=0 and counter%9==0):\n",
        "#         sum+=counter\n",
        "#     counter+=1\n",
        "# print(sum)\n",
        "#For..................................................\n",
        "for i in range(600+1):\n",
        "    if (i%7==0 and i%9!=0) or (i%7!=0 and i%9==0):\n",
        "        sum+=i\n",
        "print(sum)"
      ],
      "metadata": {
        "colab": {
          "base_uri": "https://localhost:8080/"
        },
        "id": "W_XRO6L0qkTk",
        "outputId": "e749a9df-7902-4afb-f7eb-6dfbec4a88f1"
      },
      "execution_count": null,
      "outputs": [
        {
          "output_type": "stream",
          "name": "stdout",
          "text": [
            "11 13 15 17 19 21 23 25 27 29 31 33 35 37 39 41 43 45 47 49 "
          ]
        }
      ]
    },
    {
      "cell_type": "code",
      "source": [
        "#Task05\n",
        "counter = 10\n",
        "while counter<=50 :\n",
        "    if counter%2!=0 :\n",
        "        if counter ==49:\n",
        "            print(counter,end =\"\")\n",
        "        else:\n",
        "            print(counter,end =\" \")\n",
        "    counter+=1\n",
        "#For..............................................\n",
        "for i in range(10,50+1):\n",
        "    if i%2!=0:\n",
        "        print(i,end=\" \")\n",
        "    else:\n",
        "        pass"
      ],
      "metadata": {
        "id": "ebc_b_ERsGZn",
        "colab": {
          "base_uri": "https://localhost:8080/"
        },
        "outputId": "4bd9a589-45c3-4f82-ce90-117ad33f43b2"
      },
      "execution_count": null,
      "outputs": [
        {
          "output_type": "stream",
          "name": "stdout",
          "text": [
            "11 13 15 17 19 21 23 25 27 29 31 33 35 37 39 41 43 45 47 49"
          ]
        }
      ]
    },
    {
      "cell_type": "code",
      "source": [
        "#Task06\n",
        "# counter = 0\n",
        "# sum =0\n",
        "# number= int(input(\"Please Enter Your Number :\"))\n",
        "# while counter<=number :\n",
        "#     if counter%2==0:\n",
        "#         sum+= -counter**2\n",
        "#     else:\n",
        "#         sum+= +counter**2\n",
        "#     counter+=1\n",
        "# print(sum)\n",
        "#For #y=12−22+32−42+52.........+n2.............................................\n",
        "value=0\n",
        "number=int(input(\"Please Enter Your Number :\"))\n",
        "for i in range(number+1):\n",
        "    if i%2==0:\n",
        "        value+= -(i**2)\n",
        "    else:\n",
        "        value+= +(i**2)\n",
        "print(value)"
      ],
      "metadata": {
        "colab": {
          "base_uri": "https://localhost:8080/"
        },
        "id": "U7NRgnORM1PV",
        "outputId": "35f1164d-c20c-491e-c441-b52e628ff01a"
      },
      "execution_count": null,
      "outputs": [
        {
          "output_type": "stream",
          "name": "stdout",
          "text": [
            "Please Enter Your Number :5\n",
            "15\n"
          ]
        }
      ]
    },
    {
      "cell_type": "code",
      "source": [
        "#Add all the number upto 10 which are divisible by 2(inclusve)\n",
        "# counter= 1\n",
        "# sum =0\n",
        "# while counter<=10:\n",
        "#     if counter%2==0:\n",
        "#         sum+= counter\n",
        "#     counter+=1\n",
        "# print(sum)\n",
        "#For..........................................................\n",
        "sum = 0\n",
        "for i in range(1,10+1):\n",
        "    if i%2==0:\n",
        "        sum+=i\n",
        "    else:\n",
        "        pass\n",
        "print(sum)\n",
        "\n",
        "\n"
      ],
      "metadata": {
        "colab": {
          "base_uri": "https://localhost:8080/"
        },
        "id": "eTiey6wbSSMY",
        "outputId": "40c5bf69-cc80-4b94-a6a9-44665ddc852d"
      },
      "execution_count": null,
      "outputs": [
        {
          "output_type": "stream",
          "name": "stdout",
          "text": [
            "30\n"
          ]
        }
      ]
    },
    {
      "cell_type": "code",
      "source": [
        "# max=0 #finiding max numbers\n",
        "# counter = 0\n",
        "# while counter<=5:\n",
        "#     number = int(input(\"enter a number\"))\n",
        "#     if counter==0 or number>max:\n",
        "#         max=number\n",
        "#     counter+=1\n",
        "# print(max)\n",
        "# ......................................................................................................\n",
        "\n",
        "# for i in range(5):\n",
        "#     number = int(input(\"enter a number\"))\n",
        "#     if i==1 or number>max:\n",
        "#         max=number\n",
        "# print(max)"
      ],
      "metadata": {
        "id": "TXxZGtjFbh27"
      },
      "execution_count": null,
      "outputs": []
    },
    {
      "cell_type": "code",
      "source": [
        "#Task07\n",
        "counter=0\n",
        "sum=0\n",
        "koybar_ghurche=0\n",
        "while counter<10:\n",
        "    number=int(input(\"Please Enter A Number :\"))\n",
        "    if number%2!=0:\n",
        "        sum+=number\n",
        "        koybar_ghurche+=1\n",
        "    counter+=1\n",
        "avg=sum/koybar_ghurche\n",
        "print(\"the total of the odd numbers is\",sum,\"and their average is\",avg)\n",
        "#For..................................................................\n",
        "# sum=0\n",
        "# avg=0\n",
        "# count=0\n",
        "# for i in range(1,11):\n",
        "#     number=int(input(\"Please Enter Your Number :\"))\n",
        "#     if number%2!=0:\n",
        "#         count+=1\n",
        "#         sum+=i\n",
        "#         avg=sum/count\n",
        "# print(sum,avg)"
      ],
      "metadata": {
        "colab": {
          "base_uri": "https://localhost:8080/"
        },
        "id": "XwFLXyGG_035",
        "outputId": "99e7beab-2362-49d4-d889-aaa431790882"
      },
      "execution_count": null,
      "outputs": [
        {
          "output_type": "stream",
          "name": "stdout",
          "text": [
            "Please Enter A Number :1\n",
            "Please Enter A Number :2\n",
            "Please Enter A Number :3\n",
            "Please Enter A Number :4\n",
            "Please Enter A Number :5\n",
            "Please Enter A Number :6\n",
            "Please Enter A Number :7\n",
            "Please Enter A Number :8\n",
            "Please Enter A Number :9\n",
            "Please Enter A Number :10\n",
            "the total of the odd numbers is 25 and their average is 5.0\n"
          ]
        }
      ]
    },
    {
      "cell_type": "code",
      "source": [
        "#Task08\n",
        "# Ask the user to enter a Number, N\n",
        "# Display the summation of multiples of 7 up to that number (from 1 to N inclusive)\n",
        "# counter=1\n",
        "# sum=0\n",
        "# number=int(input(\"Please enter a number :\"))\n",
        "# while counter<=number:\n",
        "#     if counter%7==0:\n",
        "#         sum+=counter\n",
        "#     counter+=1\n",
        "# print(sum)\n",
        "#For..........................................................................\n",
        "sum=0\n",
        "number=int(input(\"Please Enter A Number :\"))\n",
        "for i in range(number+1):\n",
        "    if i%7==0:\n",
        "        sum+=i\n",
        "print(sum)\n"
      ],
      "metadata": {
        "colab": {
          "base_uri": "https://localhost:8080/"
        },
        "id": "plp05kMmG3fS",
        "outputId": "719caabe-429d-4085-ad76-0e2be6b24eee"
      },
      "execution_count": null,
      "outputs": [
        {
          "output_type": "stream",
          "name": "stdout",
          "text": [
            "Please Enter A Number :50\n",
            "196\n"
          ]
        }
      ]
    },
    {
      "cell_type": "code",
      "source": [
        "#Task09\n",
        "# counter=0\n",
        "# sum=0\n",
        "# while counter<5:\n",
        "#     number=int(input(\"Please Enter Your Numbers :\"))\n",
        "#     sum+=number\n",
        "#     counter+=1\n",
        "#     print(sum)\n",
        "#For........................................................\n",
        "\n",
        "sum=0\n",
        "for i in range(5):\n",
        "     number=int(input(\"Please Enter Your Numbers :\"))\n",
        "     sum+=number\n",
        "     print(sum)"
      ],
      "metadata": {
        "colab": {
          "base_uri": "https://localhost:8080/"
        },
        "id": "s7faEhhkI_O8",
        "outputId": "16bb07c0-0717-41a6-b0eb-054e48f76ca5"
      },
      "execution_count": null,
      "outputs": [
        {
          "output_type": "stream",
          "name": "stdout",
          "text": [
            "Please Enter Your Numbers :1\n",
            "1\n",
            "Please Enter Your Numbers :2\n",
            "3\n",
            "Please Enter Your Numbers :3\n",
            "6\n",
            "Please Enter Your Numbers :4\n",
            "10\n",
            "Please Enter Your Numbers :5\n",
            "15\n"
          ]
        }
      ]
    },
    {
      "cell_type": "code",
      "source": [
        "#Task10\n",
        "# counter=0\n",
        "# number=int(input(\"enter a number :\"))\n",
        "# while counter<number:\n",
        "#     fnumber=number%10\n",
        "#     if fnumber==3:\n",
        "#         print(fnumber,end=\"\")\n",
        "#     else:\n",
        "#         print(fnumber,end=\",\")\n",
        "#     remain=number//10\n",
        "#     number=remain\n",
        "# counter+=1\n",
        "\n",
        "#For.........................................................\n",
        "number=int(input(\"enter a number :\"))\n",
        "for i in range(number):\n",
        "    fnumber=number%10\n",
        "    if number==3:\n",
        "        print(fnumber,end=\"\")\n",
        "    else:\n",
        "        print(fnumber,end=\",\")\n",
        "    remain=number//10\n",
        "    number=remain\n",
        "    if number==0:\n",
        "        break"
      ],
      "metadata": {
        "id": "zWTIPuREKAj9",
        "colab": {
          "base_uri": "https://localhost:8080/"
        },
        "outputId": "1c965f02-7df2-4142-c125-10a56061235b"
      },
      "execution_count": null,
      "outputs": [
        {
          "output_type": "stream",
          "name": "stdout",
          "text": [
            "enter a number :32768\n",
            "8,6,7,2,3"
          ]
        }
      ]
    },
    {
      "cell_type": "code",
      "source": [
        "#Task11\n",
        "counter=1\n",
        "remain=0\n",
        "count=0\n",
        "number= int(input(\"enter a number :\"))\n",
        "while counter<number:\n",
        "    sum=number//10\n",
        "    number=sum\n",
        "    count+=1\n",
        "counter+=1\n",
        "print(count)\n",
        "#For...................................................\n",
        "# count=0\n",
        "# number= int(input(\"enter a number :\"))\n",
        "# for i in range(number):\n",
        "#     fnumber=number//10\n",
        "#     number=fnumber\n",
        "#     count+=1\n",
        "#     if number==0:\n",
        "#         break\n",
        "# print(count)"
      ],
      "metadata": {
        "colab": {
          "base_uri": "https://localhost:8080/"
        },
        "id": "RXipz6m4zctu",
        "outputId": "cf978b9f-2c8e-41ba-88c1-f7f1abb2c536"
      },
      "execution_count": null,
      "outputs": [
        {
          "output_type": "stream",
          "name": "stdout",
          "text": [
            "enter a number :32768\n",
            "5\n"
          ]
        }
      ]
    },
    {
      "cell_type": "code",
      "source": [
        "#Task12\n",
        "counter=0\n",
        "remain=0\n",
        "count=0\n",
        "number= int(input(\"enter a number :\"))\n",
        "lnumber=number\n",
        "while counter<number:\n",
        "    sum=number//10\n",
        "    number=sum\n",
        "    count+=1\n",
        "counter+=1\n",
        "i=0\n",
        "counter=0\n",
        "while lnumber>0:\n",
        "    div=lnumber//10**(count-1-i)\n",
        "    remain=lnumber%10**(count-1-i)\n",
        "    lnumber=remain\n",
        "    if div==8:\n",
        "        print(div,end=\"\")\n",
        "    else:\n",
        "        print(div,end=\",\")\n",
        "    i+=1\n",
        "    counter+=1"
      ],
      "metadata": {
        "colab": {
          "base_uri": "https://localhost:8080/"
        },
        "id": "9IARjv8F0dCJ",
        "outputId": "6a0abaf7-8e5c-4eeb-e5fb-ec7041f5ed86"
      },
      "execution_count": null,
      "outputs": [
        {
          "output_type": "stream",
          "name": "stdout",
          "text": [
            "enter a number :12345\n",
            "1,2,3,4,5,"
          ]
        }
      ]
    },
    {
      "cell_type": "code",
      "source": [
        "#Task13\n",
        "# divisor=0\n",
        "# value=0\n",
        "# number=int(input(\"enter a number :\"))\n",
        "# for i in range(1,number+1):\n",
        "#     if number%i==0:\n",
        "#         divisor+=1\n",
        "#         print(i)\n",
        "# print(\"Total Divisor\",divisor)\n",
        "#While...............................\n",
        "counter=1\n",
        "count=0\n",
        "number=int(input(\"enter a number :\"))\n",
        "while number>=counter:\n",
        "    if number%counter==0:\n",
        "        count+=1\n",
        "        print(counter)\n",
        "    else:\n",
        "        pass\n",
        "    counter+=1\n",
        "print(\"Total Divisor\",count)\n"
      ],
      "metadata": {
        "colab": {
          "base_uri": "https://localhost:8080/"
        },
        "id": "8qFWlIJH0n0C",
        "outputId": "90366cef-8659-4031-9faf-112d545fb3bb"
      },
      "execution_count": null,
      "outputs": [
        {
          "output_type": "stream",
          "name": "stdout",
          "text": [
            "enter a number :6\n",
            "1\n",
            "2\n",
            "3\n",
            "6\n",
            "Total Divisor 4\n"
          ]
        }
      ]
    },
    {
      "cell_type": "code",
      "source": [
        "#Task14\n",
        "# count=0\n",
        "# sum=0\n",
        "# number=int(input(\"enter a number :\"))\n",
        "# for i in range(1,number):\n",
        "#     if number%i==0:\n",
        "#         count+=1\n",
        "#         sum+=count\n",
        "# if sum==number:\n",
        "#     print(sum,\"Is A Perfect Number\")\n",
        "# else:\n",
        "#     print(sum,\"Is Not A Perfect Number\")\n",
        "\n",
        "#While.................................\n",
        "counter=1\n",
        "sum=0"
      ],
      "metadata": {
        "colab": {
          "base_uri": "https://localhost:8080/"
        },
        "id": "SyTfhGov6Gih",
        "outputId": "43b82551-3175-4b0a-e578-0c6ece00500c"
      },
      "execution_count": null,
      "outputs": [
        {
          "output_type": "stream",
          "name": "stdout",
          "text": [
            "enter a number :33\n",
            "6 Is Not A Perfect Number\n"
          ]
        }
      ]
    },
    {
      "cell_type": "code",
      "source": [
        "#Task15\n",
        "count=1\n",
        "number=int(input(\"enter a number :\"))\n",
        "for i in range(1,number):\n",
        "    if number%i==0:\n",
        "        count+=1\n",
        "if count==2:\n",
        "    print(\"It Is A Prime Number\")\n",
        "else:\n",
        "    print(\"Its Not A prime Number\")\n",
        "#while........................................\n"
      ],
      "metadata": {
        "colab": {
          "base_uri": "https://localhost:8080/"
        },
        "id": "nTysZ4J8-0e1",
        "outputId": "89ce92a4-054b-41a6-e994-f14b1d3e09a4"
      },
      "execution_count": null,
      "outputs": [
        {
          "output_type": "stream",
          "name": "stdout",
          "text": [
            "enter a number :6\n",
            "Its Not A prime Number\n"
          ]
        }
      ]
    },
    {
      "cell_type": "code",
      "source": [
        "#Task16\n",
        "max=0\n",
        "min=0\n",
        "avg=0\n",
        "sum=0\n",
        "counter=0\n",
        "condition=int(input(\"Enter Number Of Values :\"))\n",
        "while counter<condition:\n",
        "    number=int(input(\"enter a number :\"))\n",
        "    if number>max:\n",
        "        max=number\n",
        "    elif number<min:\n",
        "        min=number\n",
        "    counter+=1\n",
        "    sum+=number\n",
        "avg=sum/condition\n",
        "print(max)\n",
        "print(min)\n",
        "print(avg)\n",
        "# For.....................................\n"
      ],
      "metadata": {
        "colab": {
          "base_uri": "https://localhost:8080/"
        },
        "id": "R2McQgltB9Vt",
        "outputId": "8e2f2b66-c63f-4604-8d5a-56daf7e19ef0"
      },
      "execution_count": null,
      "outputs": [
        {
          "output_type": "stream",
          "name": "stdout",
          "text": [
            "Enter Number Of Values :5\n",
            "enter a number :10\n",
            "enter a number :4\n",
            "enter a number :-1\n",
            "enter a number :-100\n",
            "enter a number :1\n",
            "10\n",
            "-100\n",
            "-17.2\n"
          ]
        }
      ]
    },
    {
      "cell_type": "code",
      "source": [
        "#Task17\n",
        "number=int(input(\"enter row :\"))\n",
        "for i in range(number):\n",
        "    for c in range(number):\n",
        "        print(\"+\",end=\" \")\n",
        "    print()"
      ],
      "metadata": {
        "colab": {
          "base_uri": "https://localhost:8080/"
        },
        "id": "SJkuDJs_NqY3",
        "outputId": "a4eae585-94bd-4d3b-bc09-a724970f08e3"
      },
      "execution_count": null,
      "outputs": [
        {
          "output_type": "stream",
          "name": "stdout",
          "text": [
            "enter row :3\n",
            "+ + + \n",
            "+ + + \n",
            "+ + + \n"
          ]
        }
      ]
    },
    {
      "cell_type": "code",
      "source": [
        "#Task18\n",
        "row=int(input(\"please enter the number of row :\"))\n",
        "col=int(input(\"please enter the number of coloumn :\"))\n",
        "for i in range(1,row+1):\n",
        "    for c in range(1,col+1):\n",
        "        print(c,end=\" \")\n",
        "    print()"
      ],
      "metadata": {
        "colab": {
          "base_uri": "https://localhost:8080/"
        },
        "id": "gULbRC4k3kzS",
        "outputId": "0a43cf36-363c-4374-d89c-828532d3fe6f"
      },
      "execution_count": null,
      "outputs": [
        {
          "output_type": "stream",
          "name": "stdout",
          "text": [
            "please enter the number of row :2\n",
            "please enter the number of coloumn :4\n",
            "1 2 3 4 \n",
            "1 2 3 4 \n"
          ]
        }
      ]
    },
    {
      "cell_type": "code",
      "source": [
        "#Task19\n",
        "row=int(input(\"please enter the number of row :\"))\n",
        "for i in range(1,row+1):\n",
        "    for c in range(1,i+1):\n",
        "        print(c,end=\" \")\n",
        "    print()"
      ],
      "metadata": {
        "colab": {
          "base_uri": "https://localhost:8080/"
        },
        "id": "On9NL2OJ5wH5",
        "outputId": "348650f5-0489-4586-ebaf-63305533347f"
      },
      "execution_count": null,
      "outputs": [
        {
          "output_type": "stream",
          "name": "stdout",
          "text": [
            "please enter the number of row :4\n",
            "1 \n",
            "1 2 \n",
            "1 2 3 \n",
            "1 2 3 4 \n"
          ]
        }
      ]
    },
    {
      "cell_type": "code",
      "source": [
        "#Task25\n",
        "counter=0\n",
        "number=int(input(\"please enter your number :\"))\n",
        "num1=0\n",
        "num2=1\n",
        "while counter<number:\n",
        "    sum=num1+num2\n",
        "    num1=num2\n",
        "    num2=sum\n",
        "    counter+=1\n",
        "    print(sum)\n",
        "#For..................................\n",
        "number=int(input(\"please enter your number :\"))\n",
        "num1=0\n",
        "num2=1\n",
        "for i in range(number):\n",
        "    sum=num1+num2\n",
        "    num1=num2\n",
        "    num2=sum\n",
        "    print(sum)"
      ],
      "metadata": {
        "colab": {
          "base_uri": "https://localhost:8080/"
        },
        "id": "jzzEV2fY8yni",
        "outputId": "b32a7f54-9c0a-4fa0-9e0c-d76d349e42ef"
      },
      "execution_count": null,
      "outputs": [
        {
          "output_type": "stream",
          "name": "stdout",
          "text": [
            "please enter your number :10\n",
            "1\n",
            "2\n",
            "3\n",
            "5\n",
            "8\n",
            "13\n",
            "21\n",
            "34\n",
            "55\n",
            "89\n"
          ]
        }
      ]
    },
    {
      "cell_type": "code",
      "source": [
        "number=int(input(\"please enter your number :\"))\n",
        "remain=0\n",
        "counter=0\n",
        "for i in range()\n",
        "    div=number//2\n",
        "    remain=number%2\n",
        "    number=div\n",
        "    print(remain,end=\" \")\n",
        "    counter+=1"
      ],
      "metadata": {
        "colab": {
          "base_uri": "https://localhost:8080/"
        },
        "id": "-roLWu42sxT-",
        "outputId": "40b0dd74-3d1b-4866-b2ee-94f8b7d8a22b"
      },
      "execution_count": null,
      "outputs": [
        {
          "output_type": "stream",
          "name": "stdout",
          "text": [
            "please enter your number :11\n",
            "1 1 "
          ]
        }
      ]
    },
    {
      "cell_type": "code",
      "source": [
        "number=int(input(\"please enter your number :\"))\n",
        "remain=0\n",
        "counter=0\n",
        "while number>0 :\n",
        "    div=number//2\n",
        "    remain=number%2\n",
        "    number=div\n",
        "    counter+=1\n"
      ],
      "metadata": {
        "colab": {
          "base_uri": "https://localhost:8080/"
        },
        "id": "nbcPMT7Ovy9n",
        "outputId": "9936cd56-d5fa-4dc8-a6aa-42ec16505b65"
      },
      "execution_count": null,
      "outputs": [
        {
          "output_type": "stream",
          "name": "stdout",
          "text": [
            "please enter your number :11\n",
            "1\n",
            "1\n",
            "0\n",
            "1\n"
          ]
        }
      ]
    },
    {
      "cell_type": "code",
      "source": [],
      "metadata": {
        "id": "XFIk4wZh0Kf4"
      },
      "execution_count": null,
      "outputs": []
    },
    {
      "cell_type": "code",
      "source": [],
      "metadata": {
        "id": "bCLQQYAHwYqV"
      },
      "execution_count": null,
      "outputs": []
    }
  ]
}